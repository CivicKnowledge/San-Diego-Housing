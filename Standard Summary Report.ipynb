{
 "cells": [
  {
   "cell_type": "code",
   "execution_count": 1,
   "metadata": {
    "collapsed": false,
    "scrolled": true
   },
   "outputs": [],
   "source": [
    "%load_ext autoreload\n",
    "%autoreload 1\n",
    "import sys; sys.path.append(\"..\")\n",
    "%aimport lib.util\n",
    "from lib.util import reformat_tract, add_race_eth, add_purpose_type, add_income_group, add_all_category_columns\n",
    "import pandas as pd\n",
    "pd.options.display.max_columns = 50\n",
    "pd.options.display.max_rows = 1500\n",
    "import numpy as np\n",
    "from ambry import library\n",
    "l = library()\n"
   ]
  },
  {
   "cell_type": "code",
   "execution_count": 2,
   "metadata": {
    "collapsed": false
   },
   "outputs": [],
   "source": [
    "ts = l.get('ffiec.gov-hmda-2010e-ts').partition.pandas\n",
    "\n",
    "def get_ts(year):\n",
    "    ts_name = ts[ts.activity_year == year][['respondent_id','respondent_name']].copy()\n",
    "    ts_name.respondent_id = ts_name.respondent_id.astype(str)\n",
    "    \n",
    "    rep_map = { str(row['respondent_id']):row['respondent_name'] for i,row in ts_name.iterrows() }\n",
    "    \n",
    "    ts_name = ts_name.drop_duplicates(subset=['respondent_name']).set_index(['respondent_id'])\n",
    "    \n",
    "    return ts_name, rep_map\n"
   ]
  },
  {
   "cell_type": "code",
   "execution_count": 3,
   "metadata": {
    "collapsed": true
   },
   "outputs": [],
   "source": [
    "# Function to create each section of the standard report. \n",
    "def standard_report_section(df, column_name, totalcount, totalamount):\n",
    "    dfo = df.groupby(column_name)\n",
    "    dfo = dfo['loan_amount'].agg( {'median':np.median, 'count': np.size, 'amount': np.sum})\n",
    "    dfo['%count'] = np.round(100*dfo['count']/totalcount,1)\n",
    "    dfo['%amount'] = np.round(100*dfo['amount']/totalamount,1)\n",
    "    return dfo[['count','%count','amount','%amount','median']]"
   ]
  },
  {
   "cell_type": "code",
   "execution_count": 4,
   "metadata": {
    "collapsed": true
   },
   "outputs": [],
   "source": [
    "def standard_report_group(df, group):\n",
    "    # Calling the standard_report_section\n",
    "    totalcount = df.loan_amount.count()\n",
    "    totalamount = df.loan_amount.sum()\n",
    "\n",
    "    # Comprehension version\n",
    "    frames = [standard_report_section(df, column_name, totalcount, totalamount) for column_name in \n",
    "             ('purpose_type','race_eth_c','income_group_c','applicant_sex_c','occupancy_c')]\n",
    "\n",
    "    table = pd.concat(frames, \n",
    "                      keys=['Loan Purpose and Type', 'Applicant Race/Eth', 'Applicant Income', 'Applicant Sex',\n",
    "                            'Occupancy','Totals'])\n",
    "    \n",
    "    table =  table.T\n",
    "    table['totals'] = [totalcount,None,totalamount,None,None]\n",
    "    table['respondent'] = group\n",
    "    \n",
    "    return table"
   ]
  },
  {
   "cell_type": "code",
   "execution_count": 5,
   "metadata": {
    "collapsed": false,
    "scrolled": false
   },
   "outputs": [],
   "source": [
    "def build_report(year):\n",
    "    \n",
    "    print \"Build \",year\n",
    "    p = l.get('ffiec.gov-hmda-2010e-lar-2012-ca').partition\n",
    "    df = p.select(\"SELECT * FROM lar WHERE county_code = 73\").pandas\n",
    "\n",
    "    add_race_eth(df) # Adds race_eth column\n",
    "    add_purpose_type(df) # Adds purpose_type column Combines loan_purpose and loan_type in the same way as the summary report\n",
    "    add_income_group(df) # Adds income_group column\n",
    "    add_all_category_columns(df) # Add '_c' categorical columns\n",
    "\n",
    "    ts_name, rep_map = get_ts(year)\n",
    "    \n",
    "    ordered_respondents = (df[['respondent_id','id']].groupby('respondent_id').count()\n",
    "                           .sort('id',ascending=False).reset_index())\n",
    "    \n",
    "    groups = []\n",
    "\n",
    "    for i, row in ordered_respondents.iterrows():\n",
    "\n",
    "        if i > 6:\n",
    "            break\n",
    "\n",
    "        groups.append(standard_report_group(df[(df.msa_md  == 41740) & ( df.respondent_id == row['respondent_id'] )], \n",
    "                                           rep_map.get(str(row['respondent_id']),str(row['respondent_id']) )))\n",
    "\n",
    "    report = pd.concat(groups).set_index('respondent',append=True).reorder_levels([1,0])\n",
    "\n",
    "    report.T.to_csv('standard_summary_report_{}.csv'.format(year))\n",
    "    report.to_csv('standard_summary_report_t_{}.csv'.format(year))"
   ]
  },
  {
   "cell_type": "code",
   "execution_count": 6,
   "metadata": {
    "collapsed": false
   },
   "outputs": [
    {
     "name": "stdout",
     "output_type": "stream",
     "text": [
      "Build  2010\n",
      "Adding category column for  loan_type\n",
      "Adding category column for  loan_purpose\n",
      "Adding category column for  occupancy\n",
      "Adding category column for  income_group\n",
      "Adding category column for  applicant_sex\n",
      "Adding category column for  race_eth\n",
      "Build  2011\n",
      "Adding category column for  loan_type\n",
      "Adding category column for  loan_purpose\n",
      "Adding category column for  occupancy\n",
      "Adding category column for  income_group\n",
      "Adding category column for  applicant_sex\n",
      "Adding category column for  race_eth\n",
      "Build  2012\n",
      "Adding category column for  loan_type\n",
      "Adding category column for  loan_purpose\n",
      "Adding category column for  occupancy\n",
      "Adding category column for  income_group\n",
      "Adding category column for  applicant_sex\n",
      "Adding category column for  race_eth\n",
      "Build  2013\n",
      "Adding category column for  loan_type\n",
      "Adding category column for  loan_purpose\n",
      "Adding category column for  occupancy\n",
      "Adding category column for  income_group\n",
      "Adding category column for  applicant_sex\n",
      "Adding category column for  race_eth\n"
     ]
    }
   ],
   "source": [
    "for year in (2010,2011,2012,2013):\n",
    "    build_report(year)"
   ]
  },
  {
   "cell_type": "code",
   "execution_count": null,
   "metadata": {
    "collapsed": true
   },
   "outputs": [],
   "source": []
  },
  {
   "cell_type": "code",
   "execution_count": null,
   "metadata": {
    "collapsed": true
   },
   "outputs": [],
   "source": []
  }
 ],
 "metadata": {
  "kernelspec": {
   "display_name": "Python 2",
   "language": "python",
   "name": "python2"
  },
  "language_info": {
   "codemirror_mode": {
    "name": "ipython",
    "version": 2
   },
   "file_extension": ".py",
   "mimetype": "text/x-python",
   "name": "python",
   "nbconvert_exporter": "python",
   "pygments_lexer": "ipython2",
   "version": "2.7.6"
  }
 },
 "nbformat": 4,
 "nbformat_minor": 0
}
