{
 "cells": [
  {
   "cell_type": "code",
   "execution_count": 1,
   "metadata": {
    "collapsed": false,
    "scrolled": true
   },
   "outputs": [],
   "source": [
    "%load_ext autoreload\n",
    "%autoreload 1\n",
    "import sys; sys.path.append(\"..\")\n",
    "%aimport lib.util\n",
    "from lib.util import reformat_tract, add_race_eth, add_purpose_type, add_income_group, add_all_category_columns\n",
    "import pandas as pd\n",
    "pd.options.display.max_columns = 50\n",
    "pd.options.display.max_rows = 1500\n",
    "import numpy as np\n",
    "from ambry import library\n",
    "l = library()\n",
    "p = l.get('ffiec.gov-hmda-2010e-lar-2012-ca').partition\n",
    "df = p.select(\"SELECT * FROM lar WHERE county_code = 73\").pandas"
   ]
  },
  {
   "cell_type": "code",
   "execution_count": 2,
   "metadata": {
    "collapsed": false
   },
   "outputs": [
    {
     "name": "stdout",
     "output_type": "stream",
     "text": [
      "Adding category column for  loan_type\n",
      "Adding category column for  loan_purpose\n",
      "Adding category column for  occupancy\n",
      "Adding category column for  income_group\n",
      "Adding category column for  applicant_sex\n",
      "Adding category column for  race_eth\n"
     ]
    }
   ],
   "source": [
    "add_race_eth(df) # Adds race_eth column\n",
    "add_purpose_type(df) # Adds purpose_type column Combines loan_purpose and loan_type in the same way as the summary report\n",
    "add_income_group(df) # Adds income_group column\n",
    "add_all_category_columns(df) # Add '_c' categorical columns\n",
    "\n",
    "ts = l.get('ffiec.gov-hmda-2010e-ts').partition.pandas\n",
    "ts_name = ts[['respondent_id','respondent_name']]\n",
    "#df = pd.merge(df, ts_name, on='respondent_id', how='outer')\n",
    "\n",
    "ordered_respondents = (df[['respondent_id','id']].groupby('respondent_id').count()\n",
    "                       .sort('id',ascending=False).reset_index())\n"
   ]
  },
  {
   "cell_type": "code",
   "execution_count": 3,
   "metadata": {
    "collapsed": false
   },
   "outputs": [],
   "source": [
    "rep_map = { row['respondent_id']:row['respondent_name'] for i,row in ts_name.iterrows() }"
   ]
  },
  {
   "cell_type": "code",
   "execution_count": 4,
   "metadata": {
    "collapsed": true
   },
   "outputs": [],
   "source": [
    "# Function to create each section of the standard report. \n",
    "def standard_report_section(df, column_name, totalcount, totalamount):\n",
    "    dfo = df.groupby(column_name)\n",
    "    dfo = dfo['loan_amount'].agg( {'median':np.median, 'count': np.size, 'amount': np.sum})\n",
    "    dfo['%count'] = np.round(100*dfo['count']/totalcount,1)\n",
    "    dfo['%amount'] = np.round(100*dfo['amount']/totalamount,1)\n",
    "    return dfo[['count','%count','amount','%amount','median']]"
   ]
  },
  {
   "cell_type": "code",
   "execution_count": 5,
   "metadata": {
    "collapsed": true
   },
   "outputs": [],
   "source": [
    "def standard_report_group(df, group):\n",
    "    # Calling the standard_report_section\n",
    "    totalcount = df.loan_amount.count()\n",
    "    totalamount = df.loan_amount.sum()\n",
    "\n",
    "    # Comprehension version\n",
    "    frames = [standard_report_section(df, column_name, totalcount, totalamount) for column_name in \n",
    "             ('purpose_type','race_eth_c','income_group_c','applicant_sex_c','occupancy_c')]\n",
    "\n",
    "    table = pd.concat(frames, \n",
    "                      keys=['Loan Purpose and Type', 'Applicant Race/Eth', 'Applicant Income', 'Applicant Sex',\n",
    "                            'Occupancy','Totals'])\n",
    "    \n",
    "    table =  table.T\n",
    "    table['totals'] = [totalcount,None,totalamount,None,None]\n",
    "    table['respondent'] = group\n",
    "    \n",
    "    return table"
   ]
  },
  {
   "cell_type": "code",
   "execution_count": 7,
   "metadata": {
    "collapsed": false,
    "scrolled": false
   },
   "outputs": [],
   "source": [
    "groups = []\n",
    "\n",
    "groups.append(standard_report_group(df[(df.msa_md  == 41740) & ( df.respondent_id == '0000480228' )], 'all'))\n",
    "\n",
    "for i, row in ordered_respondents.iterrows():\n",
    "    \n",
    "    if i > 10:\n",
    "        break\n",
    "\n",
    "    groups.append(standard_report_group(df[(df.msa_md  == 41740) & ( df.respondent_id == row['respondent_id'] )], \n",
    "                                       rep_map[row['respondent_id']]))\n",
    "\n",
    "report = pd.concat(groups).set_index('respondent',append=True).reorder_levels([1,0])\n",
    "\n",
    "report.to_csv('standard_summary_report.csv')"
   ]
  },
  {
   "cell_type": "code",
   "execution_count": null,
   "metadata": {
    "collapsed": true
   },
   "outputs": [],
   "source": []
  }
 ],
 "metadata": {
  "kernelspec": {
   "display_name": "Python 2",
   "language": "python",
   "name": "python2"
  },
  "language_info": {
   "codemirror_mode": {
    "name": "ipython",
    "version": 2
   },
   "file_extension": ".py",
   "mimetype": "text/x-python",
   "name": "python",
   "nbconvert_exporter": "python",
   "pygments_lexer": "ipython2",
   "version": "2.7.6"
  }
 },
 "nbformat": 4,
 "nbformat_minor": 0
}
