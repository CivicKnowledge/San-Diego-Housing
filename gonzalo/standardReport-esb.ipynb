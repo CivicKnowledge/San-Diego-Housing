{
 "cells": [
  {
   "cell_type": "code",
   "execution_count": 1,
   "metadata": {
    "collapsed": false
   },
   "outputs": [],
   "source": [
    "%load_ext autoreload\n",
    "%autoreload 1\n",
    "import sys; sys.path.append(\"..\")\n",
    "%aimport lib.util\n",
    "from lib.util import reformat_tract, add_race_eth, add_purpose_type, add_income_group \n",
    "#add_all_category_columns\n",
    "import pandas as pd\n",
    "pd.options.display.max_columns = 50\n",
    "pd.options.display.max_rows = 1500\n",
    "import numpy as np\n",
    "from ambry import library\n",
    "l = library()\n",
    "p = l.get('ffiec.gov-hmda-2010e-lar-2012-ca').partition\n",
    "df = p.select(\"SELECT * FROM lar WHERE county_code = 73\").pandas"
   ]
  },
  {
   "cell_type": "code",
   "execution_count": 2,
   "metadata": {
    "collapsed": false
   },
   "outputs": [],
   "source": [
    "add_race_eth(df) # Adds race_eth column\n",
    "add_purpose_type(df) # Adds purpose_type column Combines loan_purpose and loan_type in the same way as the summary report\n",
    "add_income_group(df) # Adds income_group column\n",
    "#add_all_category_columns(df) # Add '_c' categorical columns"
   ]
  },
  {
   "cell_type": "code",
   "execution_count": 3,
   "metadata": {
    "collapsed": true
   },
   "outputs": [],
   "source": [
    "# Function to creaet each section of the standard report. \n",
    "def standard_report_section(df, column_name, totalcount, totalamount):\n",
    "    dfo = df.groupby(column_name)\n",
    "    dfo = dfo['loan_amount'].agg(\n",
    "                            {'median':np.median,\n",
    "                             'count': np.size,\n",
    "                             'amount': np.sum})\n",
    "    dfo['%count'] = np.round(100*dfo['count']/totalcount,1)\n",
    "    dfo['%amount'] = np.round(100*dfo['amount']/totalamount,1)\n",
    "    \n",
    "    return dfo[['median','count','%count','amount','%amount']]\n",
    "\n",
    "    "
   ]
  },
  {
   "cell_type": "code",
   "execution_count": 4,
   "metadata": {
    "collapsed": false
   },
   "outputs": [
    {
     "ename": "NameError",
     "evalue": "name 'column_name' is not defined",
     "output_type": "error",
     "traceback": [
      "\u001b[0;31m---------------------------------------------------------------------------\u001b[0m",
      "\u001b[0;31mNameError\u001b[0m                                 Traceback (most recent call last)",
      "\u001b[0;32m<ipython-input-4-5f8c37d35963>\u001b[0m in \u001b[0;36m<module>\u001b[0;34m()\u001b[0m\n\u001b[1;32m      8\u001b[0m \u001b[0mframes\u001b[0m \u001b[0;34m=\u001b[0m \u001b[0;34m[\u001b[0m\u001b[0;34m]\u001b[0m\u001b[0;34m\u001b[0m\u001b[0m\n\u001b[1;32m      9\u001b[0m \u001b[0;32mfor\u001b[0m \u001b[0mcol_name\u001b[0m \u001b[0;32min\u001b[0m \u001b[0;34m(\u001b[0m\u001b[0;34m'purpose_type'\u001b[0m\u001b[0;34m,\u001b[0m\u001b[0;34m'race_eth'\u001b[0m\u001b[0;34m,\u001b[0m\u001b[0;34m'income_group'\u001b[0m  \u001b[0;34m)\u001b[0m\u001b[0;34m:\u001b[0m\u001b[0;34m\u001b[0m\u001b[0m\n\u001b[0;32m---> 10\u001b[0;31m     \u001b[0mframes\u001b[0m\u001b[0;34m.\u001b[0m\u001b[0mappend\u001b[0m\u001b[0;34m(\u001b[0m\u001b[0mstandard_report_section\u001b[0m\u001b[0;34m(\u001b[0m\u001b[0mdf\u001b[0m\u001b[0;34m,\u001b[0m \u001b[0mcolumn_name\u001b[0m\u001b[0;34m,\u001b[0m \u001b[0mtotalcount\u001b[0m\u001b[0;34m,\u001b[0m \u001b[0mtotalamount\u001b[0m\u001b[0;34m)\u001b[0m\u001b[0;34m)\u001b[0m\u001b[0;34m\u001b[0m\u001b[0m\n\u001b[0m\u001b[1;32m     11\u001b[0m \u001b[0;34m\u001b[0m\u001b[0m\n\u001b[1;32m     12\u001b[0m \u001b[0;31m# Comprehension version\u001b[0m\u001b[0;34m\u001b[0m\u001b[0;34m\u001b[0m\u001b[0m\n",
      "\u001b[0;31mNameError\u001b[0m: name 'column_name' is not defined"
     ]
    }
   ],
   "source": [
    "#\n",
    "# Calling the standard_report_section\n",
    "\n",
    "totalcount = df.loan_amount.count()\n",
    "totalamount = df.loan_amount.sum()\n",
    "\n",
    "# List Version\n",
    "frames = []\n",
    "for col_name in ('purpose_type','race_eth','income_group'  ):\n",
    "    frames.append(standard_report_section(df, column_name, totalcount, totalamount))\n",
    "  \n",
    "# Comprehension version\n",
    "\n",
    "frames = [standard_report_section(df, column_name, totalcount, totalamount) for column_name in \n",
    "         ('purpose_type','race_eth','income_group'  )]\n",
    "    \n",
    "table = pd.concat(frames, keys=['Loan Purpose and Type', \n",
    "                               'Applicant Race/Eth', \n",
    "                               'Applicant Income',\n",
    "                               'Applicant Sex',\n",
    "                               'Occupancy'])\n",
    "pieces = [table.ix[:, [\"median\",\"count\",\"%count\",\"amount\",\"%amount\",]]]\n",
    "table = pd.concat(pieces, axis=1, ) #keys=[header] for top header row\n",
    "\n",
    "table"
   ]
  },
  {
   "cell_type": "code",
   "execution_count": null,
   "metadata": {
    "collapsed": true
   },
   "outputs": [],
   "source": [
    "def standardReport(newdf): # (newdf, header) \n",
    "    totalcount = newdf.loan_amount.count()\n",
    "    totalamount = newdf.loan_amount.sum()\n",
    "    ### By Loan Purpose and Type\n",
    "    loanpt = newdf.groupby(['purpose_type'])\n",
    "    loanpt = loanpt['loan_amount'].agg(\n",
    "                            {'median':np.median,\n",
    "                             'count': np.size,\n",
    "                             'amount': np.sum})\n",
    "    loanpt['%count'] = np.round(100*loanpt['count']/totalcount,1)\n",
    "    loanpt['%amount'] = np.round(100*loanpt['amount']/totalamount,1)\n",
    "    loanpt=loanpt[['median','count','%count','amount','%amount']]\n",
    "    ### Subtotals\n",
    "    \n",
    "    ### By Applicant Race/Ethnicity\n",
    "    race_eth  = newdf.groupby(['race_eth'])\n",
    "    race_eth  = race_eth ['loan_amount'].agg(\n",
    "                            {'median':np.median,\n",
    "                             'count': np.size,\n",
    "                             'amount': np.sum})\n",
    "    race_eth ['%count'] = np.round(100*race_eth['count']/totalcount,1)\n",
    "    race_eth ['%amount'] = np.round(100*race_eth['amount']/totalamount,1)\n",
    "    race_eth = race_eth [['median','count','%count','amount','%amount']]\n",
    "    ###By Applicant Income\n",
    "    income  = newdf.groupby(['income_group'])\n",
    "    income   = income['loan_amount'].agg(\n",
    "                            {'median':np.median,\n",
    "                             'count': np.size,\n",
    "                             'amount': np.sum})\n",
    "    income ['%count'] = np.round(100*income['count']/totalcount,1)\n",
    "    income ['%amount'] = np.round(100*income['amount']/totalamount,1)\n",
    "    income = income [['median','count','%count','amount','%amount']]\n",
    "    ###By Applicant Sex\n",
    "    sex  = newdf.groupby(['applicant_sex'])\n",
    "    sex   = sex['loan_amount'].agg(\n",
    "                            {'median':np.median,\n",
    "                             'count': np.size,\n",
    "                             'amount': np.sum})\n",
    "    sex ['%count'] = np.round(100*sex['count']/totalcount,1)\n",
    "    sex ['%amount'] = np.round(100*sex['amount']/totalamount,1)\n",
    "    sex = sex [['median','count','%count','amount','%amount']]\n",
    "    ###Owner-Occupied\n",
    "    occ = newdf.groupby(['occupancy'])\n",
    "    occ   = occ['loan_amount'].agg(\n",
    "                            {'median':np.median,\n",
    "                             'count': np.size,\n",
    "                             'amount': np.sum})\n",
    "    occ ['%count'] = np.round(100*occ['count']/totalcount,1)\n",
    "    occ ['%amount'] = np.round(100*occ['amount']/totalamount,1)\n",
    "    occ = occ [['median','count','%count','amount','%amount']]\n",
    "  \n",
    "    ### Smashing Tables Together\n",
    "    frames = [loanpt, race_eth,income,sex,occ]\n",
    "    \n",
    "    table = pd.concat(frames, keys=['Loan Purpose and Type', \n",
    "                                   'Applicant Race/Eth', \n",
    "                                   'Applicant Income',\n",
    "                                   'Applicant Sex',\n",
    "                                   'Occupancy'])\n",
    "    pieces = [table.ix[:, [\"median\",\"count\",\"%count\",\"amount\",\"%amount\",]]]\n",
    "    table = pd.concat(pieces, axis=1, ) #keys=[header] for top header row\n",
    "    return table;"
   ]
  },
  {
   "cell_type": "markdown",
   "metadata": {},
   "source": [
    "# All Lenders Combined\n",
    "### Standard Report"
   ]
  },
  {
   "cell_type": "code",
   "execution_count": null,
   "metadata": {
    "collapsed": false,
    "scrolled": true
   },
   "outputs": [],
   "source": [
    "standardReport(df)"
   ]
  },
  {
   "cell_type": "code",
   "execution_count": null,
   "metadata": {
    "collapsed": false
   },
   "outputs": [],
   "source": [
    "standardReport(df).to_csv('standardReport.csv')"
   ]
  }
 ],
 "metadata": {
  "kernelspec": {
   "display_name": "Python 2",
   "language": "python",
   "name": "python2"
  },
  "language_info": {
   "codemirror_mode": {
    "name": "ipython",
    "version": 2
   },
   "file_extension": ".py",
   "mimetype": "text/x-python",
   "name": "python",
   "nbconvert_exporter": "python",
   "pygments_lexer": "ipython2",
   "version": "2.7.6"
  }
 },
 "nbformat": 4,
 "nbformat_minor": 0
}
