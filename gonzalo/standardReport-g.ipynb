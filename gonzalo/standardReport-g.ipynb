{
 "cells": [
  {
   "cell_type": "code",
   "execution_count": null,
   "metadata": {
    "collapsed": false,
    "scrolled": true
   },
   "outputs": [
    {
     "name": "stdout",
     "output_type": "stream",
     "text": [
      "The autoreload extension is already loaded. To reload it, use:\n",
      "  %reload_ext autoreload\n"
     ]
    }
   ],
   "source": [
    "%load_ext autoreload\n",
    "%autoreload 1\n",
    "import sys; sys.path.append(\"..\")\n",
    "%aimport lib.util\n",
    "from lib.util import reformat_tract, add_race_eth, add_purpose_type, add_income_group, add_all_category_columns\n",
    "import pandas as pd\n",
    "pd.options.display.max_columns = 50\n",
    "pd.options.display.max_rows = 1500\n",
    "import numpy as np\n",
    "from ambry import library\n",
    "l = library()\n",
    "p = l.get('ffiec.gov-hmda-2010e-lar-2012-ca').partition\n",
    "df = p.select(\"SELECT * FROM lar WHERE county_code = 73\").pandas"
   ]
  },
  {
   "cell_type": "code",
   "execution_count": null,
   "metadata": {
    "collapsed": false,
    "scrolled": false
   },
   "outputs": [],
   "source": [
    "add_race_eth(df) # Adds race_eth column\n",
    "add_purpose_type(df) # Adds purpose_type column Combines loan_purpose and loan_type in the same way as the summary report\n",
    "add_income_group(df) # Adds income_group column\n",
    "add_all_category_columns(df) # Add '_c' categorical columns\n",
    "\n",
    "ts = l.get('ffiec.gov-hmda-2010e-ts').partition.pandas\n",
    "ts_name = ts[['respondent_id','respondent_name']]\n",
    "df = pd.merge(df, ts_name, on='respondent_id', how='outer')"
   ]
  },
  {
   "cell_type": "code",
   "execution_count": null,
   "metadata": {
    "collapsed": true
   },
   "outputs": [],
   "source": [
    "# Function to create each section of the standard report. \n",
    "def standard_report_section(df, column_name, totalcount, totalamount):\n",
    "    dfo = df.groupby(column_name)\n",
    "    dfo = dfo['loan_amount'].agg(\n",
    "                            {'median':np.median,\n",
    "                             'count': np.size,\n",
    "                             'amount': np.sum})\n",
    "    dfo['%count'] = np.round(100*dfo['count']/totalcount,1)\n",
    "    dfo['%amount'] = np.round(100*dfo['amount']/totalamount,1)\n",
    "    \n",
    "    return dfo[['median','count','%count','amount','%amount']]"
   ]
  },
  {
   "cell_type": "code",
   "execution_count": null,
   "metadata": {
    "collapsed": false,
    "scrolled": false
   },
   "outputs": [],
   "source": [
    "# Calling the standard_report_section\n",
    "totalcount = df.loan_amount.count()\n",
    "totalamount = df.loan_amount.sum()\n",
    "\n",
    "# List Version\n",
    "for col_name in ('purpose_type','race_eth','income_group', 'applicant_sex','occupancy'):\n",
    "    frames.append(standard_report_section(df, col_name, totalcount, totalamount))\n",
    "\n",
    "# Comprehension version\n",
    "frames = [standard_report_section(df, column_name, totalcount, totalamount) for column_name in \n",
    "         ('purpose_type','race_eth','income_group','applicant_sex','occupancy')]\n",
    "    \n",
    "table = pd.concat(frames, keys=['Loan Purpose and Type', \n",
    "                               'Applicant Race/Eth', \n",
    "                               'Applicant Income',\n",
    "                               'Applicant Sex',\n",
    "                               'Occupancy'])\n",
    "\n",
    "pieces = [table.ix[:,[\"median\",\"count\",\"%count\",\"amount\",\"%amount\",]]]\n",
    "table = pd.concat(pieces, axis=1)\n",
    "table"
   ]
  }
 ],
 "metadata": {
  "kernelspec": {
   "display_name": "Python 2",
   "language": "python",
   "name": "python2"
  },
  "language_info": {
   "codemirror_mode": {
    "name": "ipython",
    "version": 2
   },
   "file_extension": ".py",
   "mimetype": "text/x-python",
   "name": "python",
   "nbconvert_exporter": "python",
   "pygments_lexer": "ipython2",
   "version": "2.7.6"
  }
 },
 "nbformat": 4,
 "nbformat_minor": 0
}
