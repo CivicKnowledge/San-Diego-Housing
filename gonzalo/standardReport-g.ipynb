{
 "cells": [
  {
   "cell_type": "code",
   "execution_count": 70,
   "metadata": {
    "collapsed": false,
    "scrolled": true
   },
   "outputs": [
    {
     "name": "stdout",
     "output_type": "stream",
     "text": [
      "The autoreload extension is already loaded. To reload it, use:\n",
      "  %reload_ext autoreload\n"
     ]
    }
   ],
   "source": [
    "%load_ext autoreload\n",
    "%autoreload 1\n",
    "import sys; sys.path.append(\"..\")\n",
    "%aimport lib.util\n",
    "from lib.util import reformat_tract, add_race_eth, add_purpose_type, add_income_group, add_all_category_columns\n",
    "import pandas as pd\n",
    "pd.options.display.max_columns = 50\n",
    "pd.options.display.max_rows = 1500\n",
    "import numpy as np\n",
    "from ambry import library\n",
    "l = library()\n",
    "p = l.get('ffiec.gov-hmda-2010e-lar-2012-ca').partition\n",
    "df = p.select(\"SELECT * FROM lar WHERE county_code = 73\").pandas"
   ]
  },
  {
   "cell_type": "code",
   "execution_count": 71,
   "metadata": {
    "collapsed": false,
    "scrolled": true
   },
   "outputs": [
    {
     "name": "stdout",
     "output_type": "stream",
     "text": [
      "Adding category column for  income_group\n",
      "Adding category column for  loan_type\n",
      "Adding category column for  loan_purpose\n",
      "Adding category column for  race_eth\n"
     ]
    }
   ],
   "source": [
    "add_race_eth(df) # Adds race_eth column\n",
    "add_purpose_type(df) # Adds purpose_type column Combines loan_purpose and loan_type in the same way as the summary report\n",
    "add_income_group(df) # Adds income_group column\n",
    "add_all_category_columns(df) # Add '_c' categorical columns\n",
    "\n",
    "ts_source = l.get('ffiec.gov-hmda-2010e-ts').partition.pandas"
   ]
  },
  {
   "cell_type": "code",
   "execution_count": 72,
   "metadata": {
    "collapsed": false
   },
   "outputs": [],
   "source": [
    "def get_ts(year):\n",
    "    ts_name = ts_source[ts_source.activity_year == year][['respondent_id','respondent_name']].copy()\n",
    "    ts_name.respondent_id = ts_name.respondent_id.astype(str)\n",
    "    ts_name = ts_name.drop_duplicates(subset=['respondent_id'])\n",
    "    ts_name = ts_name.drop_duplicates(subset=['respondent_name'])\n",
    "    return ts_name\n",
    "\n",
    "ts = get_ts(2012)\n",
    "df = pd.merge(df, ts, on='respondent_id', how='left')"
   ]
  },
  {
   "cell_type": "code",
   "execution_count": 73,
   "metadata": {
    "collapsed": true
   },
   "outputs": [],
   "source": [
    "# Function to create each section of the standard report. \n",
    "def standard_report_section(df, column_name, totalcount, totalamount):\n",
    "    dfo = df.groupby(column_name)\n",
    "    dfo = dfo['loan_amount'].agg(\n",
    "                            {'median':np.median,\n",
    "                             'count': np.size,\n",
    "                             'amount': np.sum})\n",
    "    dfo['%count'] = np.round(100*dfo['count']/totalcount,1)\n",
    "    dfo['%amount'] = np.round(100*dfo['amount']/totalamount,1)\n",
    "    \n",
    "    return dfo[['median','count','%count','amount','%amount']]"
   ]
  },
  {
   "cell_type": "code",
   "execution_count": 74,
   "metadata": {
    "collapsed": false,
    "scrolled": false
   },
   "outputs": [
    {
     "ename": "NameError",
     "evalue": "name 'frames' is not defined",
     "output_type": "error",
     "traceback": [
      "\u001b[0;31m---------------------------------------------------------------------------\u001b[0m",
      "\u001b[0;31mNameError\u001b[0m                                 Traceback (most recent call last)",
      "\u001b[0;32m<ipython-input-74-2aff04747f3e>\u001b[0m in \u001b[0;36m<module>\u001b[0;34m()\u001b[0m\n\u001b[1;32m      5\u001b[0m \u001b[0;31m# List Version\u001b[0m\u001b[0;34m\u001b[0m\u001b[0;34m\u001b[0m\u001b[0m\n\u001b[1;32m      6\u001b[0m \u001b[0;32mfor\u001b[0m \u001b[0mcol_name\u001b[0m \u001b[0;32min\u001b[0m \u001b[0;34m(\u001b[0m\u001b[0;34m'purpose_type'\u001b[0m\u001b[0;34m,\u001b[0m\u001b[0;34m'race_eth'\u001b[0m\u001b[0;34m,\u001b[0m\u001b[0;34m'income_group'\u001b[0m\u001b[0;34m,\u001b[0m \u001b[0;34m'applicant_sex'\u001b[0m\u001b[0;34m,\u001b[0m\u001b[0;34m'occupancy'\u001b[0m\u001b[0;34m)\u001b[0m\u001b[0;34m:\u001b[0m\u001b[0;34m\u001b[0m\u001b[0m\n\u001b[0;32m----> 7\u001b[0;31m     \u001b[0mframes\u001b[0m\u001b[0;34m.\u001b[0m\u001b[0mappend\u001b[0m\u001b[0;34m(\u001b[0m\u001b[0mstandard_report_section\u001b[0m\u001b[0;34m(\u001b[0m\u001b[0mdf\u001b[0m\u001b[0;34m,\u001b[0m \u001b[0mcol_name\u001b[0m\u001b[0;34m,\u001b[0m \u001b[0mtotalcount\u001b[0m\u001b[0;34m,\u001b[0m \u001b[0mtotalamount\u001b[0m\u001b[0;34m)\u001b[0m\u001b[0;34m)\u001b[0m\u001b[0;34m\u001b[0m\u001b[0m\n\u001b[0m\u001b[1;32m      8\u001b[0m \u001b[0;34m\u001b[0m\u001b[0m\n\u001b[1;32m      9\u001b[0m \u001b[0;31m# Comprehension version\u001b[0m\u001b[0;34m\u001b[0m\u001b[0;34m\u001b[0m\u001b[0m\n",
      "\u001b[0;31mNameError\u001b[0m: name 'frames' is not defined"
     ]
    }
   ],
   "source": [
    "# Calling the standard_report_section\n",
    "totalcount = df.loan_amount.count()\n",
    "totalamount = df.loan_amount.sum()\n",
    "\n",
    "# List Version\n",
    "for col_name in ('purpose_type','race_eth','income_group', 'applicant_sex','occupancy'):\n",
    "    frames.append(standard_report_section(df, col_name, totalcount, totalamount))\n",
    "\n",
    "# Comprehension version\n",
    "frames = [standard_report_section(df, column_name, totalcount, totalamount) for column_name in \n",
    "         ('purpose_type','race_eth','income_group','applicant_sex','occupancy')]\n",
    "    \n",
    "table = pd.concat(frames, keys=['Loan Purpose and Type', \n",
    "                               'Applicant Race/Eth', \n",
    "                               'Applicant Income',\n",
    "                               'Applicant Sex',\n",
    "                               'Occupancy'])\n",
    "\n",
    "pieces = [table.ix[:,[\"median\",\"count\",\"%count\",\"amount\",\"%amount\",]]]\n",
    "table = pd.concat(pieces, axis=1)\n",
    "table"
   ]
  },
  {
   "cell_type": "code",
   "execution_count": null,
   "metadata": {
    "collapsed": true
   },
   "outputs": [],
   "source": []
  }
 ],
 "metadata": {
  "kernelspec": {
   "display_name": "Python 2",
   "language": "python",
   "name": "python2"
  },
  "language_info": {
   "codemirror_mode": {
    "name": "ipython",
    "version": 2
   },
   "file_extension": ".py",
   "mimetype": "text/x-python",
   "name": "python",
   "nbconvert_exporter": "python",
   "pygments_lexer": "ipython2",
   "version": "2.7.6"
  }
 },
 "nbformat": 4,
 "nbformat_minor": 0
}
