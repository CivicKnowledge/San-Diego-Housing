{
 "cells": [
  {
   "cell_type": "code",
   "execution_count": 1,
   "metadata": {
    "collapsed": false
   },
   "outputs": [
    {
     "data": {
      "text/plain": [
       "'ffiec.gov-hmda-2010e-lar-2010-ca-0.0.7~p02X00X007'"
      ]
     },
     "execution_count": 1,
     "metadata": {},
     "output_type": "execute_result"
    }
   ],
   "source": [
    "import pandas as pd\n",
    "import numpy as np\n",
    "from ambry import library\n",
    "l = library()\n",
    "\n",
    "p = l.get('ffiec.gov-hmda-2010e-lar-2010-ca').partition\n",
    "str(p.identity.fqname)\n"
   ]
  },
  {
   "cell_type": "code",
   "execution_count": 2,
   "metadata": {
    "collapsed": true
   },
   "outputs": [],
   "source": [
    "ts = l.get('ffiec.gov-hmda-2010e-ts').partition.pandas"
   ]
  },
  {
   "cell_type": "code",
   "execution_count": 3,
   "metadata": {
    "collapsed": false
   },
   "outputs": [],
   "source": [
    "def get_ts(year):\n",
    "    ts_name = ts[ts.activity_year == year][['respondent_id','respondent_name']].copy()\n",
    "    ts_name.respondent_id = ts_name.respondent_id.astype(str)\n",
    "    ts_name = ts_name.drop_duplicates(subset=['respondent_name']).set_index(['respondent_id'])\n",
    "    return ts_name\n",
    "\n",
    "def get_lar(year):\n",
    "    # 'ffiec.gov-hmda-2010e-lar-2012-ca'\n",
    "    lar =  (l.get('ffiec.gov-hmda-2010e-lar-{}-ca'.format(year)).partition\n",
    "            .select(\"SELECT * FROM lar WHERE county_code = 73\")\n",
    "            .pandas )\n",
    "    \n",
    "    lar['tract'] = lar.census_tract_number # Save the trouble of changing column names later. \n",
    "    return lar\n",
    "\n"
   ]
  },
  {
   "cell_type": "code",
   "execution_count": 4,
   "metadata": {
    "collapsed": false
   },
   "outputs": [],
   "source": [
    "def generate_share_frame(df, ts_name, group):\n",
    "    dfx = pd.DataFrame()\n",
    "    dfx['count'] = df.groupby('respondent_id').count()['id']\n",
    "    dfx['count_pct'] = np.round(dfx['count'] / dfx['count'].sum() * 100.0, 2)\n",
    "\n",
    "    dfx['amount'] = df.groupby('respondent_id').sum()['loan_amount']\n",
    "    dfx['amount_pct'] = np.round(dfx['amount'] / dfx['amount'].sum() * 100.0,2)\n",
    "\n",
    "    dfx['amount_avg'] = np.round(df.groupby('respondent_id').mean()['loan_amount'],0)\n",
    "\n",
    "    dfx['amount_median'] = np.round(df.groupby('respondent_id').median()['loan_amount'],0)\n",
    "    \n",
    "    dfx = (dfx.merge(ts_name,left_index = True, right_index = True).set_index(['respondent_name'] ))\n",
    "\n",
    "    return dfx\n",
    "    "
   ]
  },
  {
   "cell_type": "code",
   "execution_count": 5,
   "metadata": {
    "collapsed": false
   },
   "outputs": [],
   "source": [
    "def build_market_share_report(lar, year):\n",
    "    ts_name = get_ts(year)\n",
    "    \n",
    "    report = generate_share_frame(lar,ts_name,'all')\n",
    "    \n",
    "    #no_refi_share = generate_share_frame(lar[ (lar.loan_action == 1) & (lar.loan_purpose != 2)], ts_name, 'Excl. Home Imp.')\n",
    "    \n",
    "    #report = report.join(no_refi_share)\n",
    "    \n",
    "    #report.columns.set_levels([u'All Loans', u'Excluding Home Imp.'], level = 0, inplace = True)\n",
    "    #[u'count', u'count_pct', u'amount', u'amount_pct', u'amount_avg', u'amount_median']\n",
    "    \n",
    "    cols = [u'Count',u'Market Share % By Originations',u'Total Amount', u'Market Share % By Amount',\n",
    "                      u'Average Loan Size', u'Median Loan Size']\n",
    "    \n",
    "    report.columns = cols\n",
    "        \n",
    "    # Set a row number\n",
    "    #report['#'] = 0\n",
    "    #report['#'] = range(1,len(report['#'])+1)\n",
    "    #report = report.set_index('#', append=True).reorder_levels([1,0])\n",
    "\n",
    "    report_sum = report.sum()\n",
    "\n",
    "    # Reorder the columns\n",
    "    report = report[cols]\n",
    "    \n",
    "    report = pd.concat([report, pd.DataFrame( {'Total':report_sum }).T])\n",
    "    \n",
    "    return report\n"
   ]
  },
  {
   "cell_type": "code",
   "execution_count": 6,
   "metadata": {
    "collapsed": true
   },
   "outputs": [],
   "source": [
    "def combined_report(lar, year):\n",
    "\n",
    "    report1 = build_market_share_report(lar[(lar.action_type == 1) & (lar.loan_purpose == 1)], \n",
    "                                        year)\n",
    "    report1.columns = [ 'Purchases: '+c for c in report1.columns]\n",
    "    \n",
    "    report2 = build_market_share_report(lar[(lar.action_type == 1) & (lar.loan_purpose != 2)],\n",
    "                                        year)\n",
    "    report2.columns = [ 'No Imprv: '+c for c in report2.columns]\n",
    "    \n",
    "    return report1.merge(report2, right_index = True, left_index = True).sort('Purchases: Count', ascending=False)[:31]\n",
    "    "
   ]
  },
  {
   "cell_type": "code",
   "execution_count": 7,
   "metadata": {
    "collapsed": false,
    "scrolled": false
   },
   "outputs": [
    {
     "name": "stderr",
     "output_type": "stream",
     "text": [
      ":0: FutureWarning: IPython widgets are experimental and may change in the future.\n"
     ]
    }
   ],
   "source": [
    "from IPython.html.widgets import FloatProgress\n",
    "from IPython.display import display\n",
    "from time import sleep\n",
    "\n",
    "places = pd.read_csv('data/ca_tract_to_place.csv', delimiter='\\t')\n",
    "places = places[places.county == '06073']\n",
    "\n",
    "n = 0\n",
    "f = FloatProgress(min=0, max=4 * (len(list(places.placefp.unique()))+1 ))   \n",
    "display(f)\n",
    "f.value = 0\n",
    "\n",
    "def ensure_dir(path):\n",
    "    import os\n",
    "    d = os.path.dirname(path)\n",
    "    if not os.path.exists(d):\n",
    "        os.makedirs(d)                  \n",
    "                  \n",
    "for year in (2010, 2011, 2012, 2013):\n",
    "    lar = get_lar(year)\n",
    "               \n",
    "    # County files\n",
    "    f.value += 1\n",
    "    \n",
    "    report = combined_report(lar, year)\n",
    "                  \n",
    "    #report.columns.names = ['{}, {}'.format(\"San Diego County\", year), None]\n",
    "\n",
    "    path = 'market-share/{}/county/san_diego-county.csv'.format(year)\n",
    "    \n",
    "    ensure_dir(path)\n",
    "    \n",
    "    report.to_csv(path)\n",
    "    \n",
    "    for placefp in list(places.placefp.unique()):\n",
    "        \n",
    "        f.value += 1\n",
    "        \n",
    "        larp = lar.merge(places, on='tract').copy()\n",
    "        larp_sub = larp[larp.placefp == placefp]\n",
    "        \n",
    "        report = combined_report(larp_sub, year)\n",
    "        \n",
    "        raw_place_name = larp_sub.placenm.unique()[0]\n",
    "        place_name = raw_place_name.replace(' ','_').replace(',','').lower()\n",
    "        \n",
    "        place_type = 'other'\n",
    "        \n",
    "        if 'cdp' in place_name:\n",
    "            place_type = 'cdp'\n",
    "        elif 'city' in place_name:\n",
    "            place_type = 'city'\n",
    "        \n",
    "        path = \"market-share/{}/{}/{}.csv\".format(year,place_type,place_name)\n",
    "        #report.columns.names = ['{}, {}'.format(raw_place_name, year), None]\n",
    "       \n",
    "        ensure_dir(path)\n",
    "        \n",
    "        report.to_csv(path)\n",
    "        \n"
   ]
  },
  {
   "cell_type": "code",
   "execution_count": null,
   "metadata": {
    "collapsed": true
   },
   "outputs": [],
   "source": []
  }
 ],
 "metadata": {
  "kernelspec": {
   "display_name": "Python 2",
   "language": "python",
   "name": "python2"
  },
  "language_info": {
   "codemirror_mode": {
    "name": "ipython",
    "version": 2
   },
   "file_extension": ".py",
   "mimetype": "text/x-python",
   "name": "python",
   "nbconvert_exporter": "python",
   "pygments_lexer": "ipython2",
   "version": "2.7.6"
  }
 },
 "nbformat": 4,
 "nbformat_minor": 0
}
