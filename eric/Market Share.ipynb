{
 "cells": [
  {
   "cell_type": "code",
   "execution_count": 1,
   "metadata": {
    "collapsed": false
   },
   "outputs": [
    {
     "data": {
      "text/plain": [
       "'ffiec.gov-hmda-2010e-lar-2010-ca-0.0.6~p02X00V006'"
      ]
     },
     "execution_count": 1,
     "metadata": {},
     "output_type": "execute_result"
    }
   ],
   "source": [
    "import pandas as pd\n",
    "import numpy as np\n",
    "from ambry import library\n",
    "l = library()\n",
    "\n",
    "p = l.get('ffiec.gov-hmda-2010e-lar-2010-ca').partition\n",
    "str(p.identity.fqname)"
   ]
  },
  {
   "cell_type": "code",
   "execution_count": 2,
   "metadata": {
    "collapsed": true
   },
   "outputs": [],
   "source": [
    "ts = l.get('ffiec.gov-hmda-2010e-ts').partition.pandas"
   ]
  },
  {
   "cell_type": "code",
   "execution_count": 3,
   "metadata": {
    "collapsed": true
   },
   "outputs": [],
   "source": [
    "def get_ts(year):\n",
    "    ts_name = ts[ts.activity_year == year][['respondent_id','respondent_name']].copy()\n",
    "    ts_name.respondent_id = ts_name.respondent_id.astype(str)\n",
    "    ts_name = ts_name.drop_duplicates(subset=['respondent_name']).set_index(['respondent_id'])\n",
    "    return ts_name\n",
    "\n",
    "def get_lar(year):\n",
    "    # 'ffiec.gov-hmda-2010e-lar-2012-ca'\n",
    "    return (l.get('ffiec.gov-hmda-2010e-lar-{}-ca'.format(year)).partition\n",
    "            .select(\"SELECT * FROM lar WHERE county_code = 73\")\n",
    "            .pandas )"
   ]
  },
  {
   "cell_type": "code",
   "execution_count": 4,
   "metadata": {
    "collapsed": false
   },
   "outputs": [],
   "source": [
    "def generate_share_frame(df, ts_name, group):\n",
    "    dfx = pd.DataFrame()\n",
    "    dfx['count'] = df.groupby('respondent_id').count()['id']\n",
    "    dfx['count_pct'] = np.round(dfx['count'] / dfx['count'].sum() * 100.0, 2)\n",
    "\n",
    "    dfx['amount'] = df.groupby('respondent_id').sum()['loan_amount']\n",
    "    dfx['amount_pct'] = np.round(dfx['amount'] / dfx['amount'].sum() * 100.0,2)\n",
    "\n",
    "    dfx['amount_avg'] = np.round(df.groupby('respondent_id').mean()['loan_amount'],0)\n",
    "\n",
    "    dfx['amount_median'] = np.round(df.groupby('respondent_id').median()['loan_amount'],0)\n",
    "    \n",
    "    dfx = (dfx.merge(ts_name,left_index = True, right_index = True)\n",
    "               .set_index(['respondent_name'] )\n",
    "               .sort('count_pct', ascending = False))\n",
    "    \n",
    "    # HACK. There is certainly a better way to set the first-level of a new multi index on columns,\n",
    "    # but I'm tired of reading docs. \n",
    "    x = dfx.T\n",
    "    x['group'] = group\n",
    "    dfx =  x.set_index('group',append=True).reorder_levels([1,0]).T\n",
    "\n",
    "    return dfx\n",
    "    "
   ]
  },
  {
   "cell_type": "code",
   "execution_count": 7,
   "metadata": {
    "collapsed": false
   },
   "outputs": [],
   "source": [
    "def build_market_share_report(year):\n",
    "    df = get_lar(year)\n",
    "    ts_name = get_ts(year)\n",
    "    all_share = generate_share_frame(df,ts_name,'all')\n",
    "    no_refi_share = generate_share_frame(df[df.loan_purpose != 2], ts_name, 'no_imp')\n",
    "    combined = all_share.join(no_refi_share)\n",
    "    return combined"
   ]
  },
  {
   "cell_type": "code",
   "execution_count": 8,
   "metadata": {
    "collapsed": false
   },
   "outputs": [
    {
     "name": "stdout",
     "output_type": "stream",
     "text": [
      "2010 519\n",
      "2011 677\n",
      "2012 722\n",
      "2013 722\n"
     ]
    }
   ],
   "source": [
    "for year in (2010, 2011, 2012, 2013):\n",
    "    df = build_market_share_report(year)\n",
    "    print year, len(df)\n",
    "    df.to_csv('market-share-sandiego-county-{}.csv'.format(year))"
   ]
  },
  {
   "cell_type": "code",
   "execution_count": null,
   "metadata": {
    "collapsed": true
   },
   "outputs": [],
   "source": []
  }
 ],
 "metadata": {
  "kernelspec": {
   "display_name": "Python 2",
   "language": "python",
   "name": "python2"
  },
  "language_info": {
   "codemirror_mode": {
    "name": "ipython",
    "version": 2
   },
   "file_extension": ".py",
   "mimetype": "text/x-python",
   "name": "python",
   "nbconvert_exporter": "python",
   "pygments_lexer": "ipython2",
   "version": "2.7.6"
  }
 },
 "nbformat": 4,
 "nbformat_minor": 0
}
