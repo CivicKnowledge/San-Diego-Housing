{
 "cells": [
  {
   "cell_type": "code",
   "execution_count": 83,
   "metadata": {
    "collapsed": false
   },
   "outputs": [
    {
     "name": "stdout",
     "output_type": "stream",
     "text": [
      "The autoreload extension is already loaded. To reload it, use:\n",
      "  %reload_ext autoreload\n"
     ]
    }
   ],
   "source": [
    "%load_ext autoreload\n",
    "%autoreload 1\n",
    "import sys; sys.path.append(\"..\")\n",
    "%aimport lib.util\n",
    "from lib.util import reformat_tract, add_race_eth, add_purpose_type\n",
    "import pandas as pd\n",
    "import numpy as np\n",
    "from ambry import library\n"
   ]
  },
  {
   "cell_type": "code",
   "execution_count": 28,
   "metadata": {
    "collapsed": true
   },
   "outputs": [],
   "source": [
    "l = library()\n",
    "p = l.get('ffiec.gov-hmda-2010e-lar-2012-ca').partition\n",
    "\n",
    "source = p.select(\"SELECT * FROM lar WHERE county_code = 73\").pandas\n",
    "\n"
   ]
  },
  {
   "cell_type": "markdown",
   "metadata": {},
   "source": [
    "Figure out what the respondent_id is for Bank of America"
   ]
  },
  {
   "cell_type": "code",
   "execution_count": 87,
   "metadata": {
    "collapsed": false
   },
   "outputs": [
    {
     "data": {
      "text/html": [
       "<div style=\"max-height:1000px;max-width:1500px;overflow:auto;\">\n",
       "<table border=\"1\" class=\"dataframe\">\n",
       "  <thead>\n",
       "    <tr style=\"text-align: right;\">\n",
       "      <th></th>\n",
       "      <th>respondent_id</th>\n",
       "      <th>respondent_name</th>\n",
       "    </tr>\n",
       "  </thead>\n",
       "  <tbody>\n",
       "    <tr>\n",
       "      <th>4398  </th>\n",
       "      <td> 0000012773</td>\n",
       "      <td>          BANK OF AMERICAN FORK</td>\n",
       "    </tr>\n",
       "    <tr>\n",
       "      <th>17927 </th>\n",
       "      <td> 0000014740</td>\n",
       "      <td> FIRST NATIONAL BANK OF AMERICA</td>\n",
       "    </tr>\n",
       "    <tr>\n",
       "      <th>263517</th>\n",
       "      <td> 0000480228</td>\n",
       "      <td>          BANK OF AMERICA, N.A.</td>\n",
       "    </tr>\n",
       "  </tbody>\n",
       "</table>\n",
       "</div>"
      ],
      "text/plain": [
       "       respondent_id                 respondent_name\n",
       "4398      0000012773           BANK OF AMERICAN FORK\n",
       "17927     0000014740  FIRST NATIONAL BANK OF AMERICA\n",
       "263517    0000480228           BANK OF AMERICA, N.A."
      ]
     },
     "execution_count": 87,
     "metadata": {},
     "output_type": "execute_result"
    }
   ],
   "source": [
    "ts = l.get('ffiec.gov-hmda-2010e-ts').partition.pandas\n",
    "ts_name = ts[['respondent_id','respondent_name']]\n",
    "x = source[['id','respondent_id', 'loan_type']].merge(ts_name, on='respondent_id')\n",
    "x[x.respondent_name.str.contains('BANK OF AMERICA')][['respondent_id','respondent_name']].drop_duplicates()"
   ]
  },
  {
   "cell_type": "code",
   "execution_count": 84,
   "metadata": {
    "collapsed": false
   },
   "outputs": [],
   "source": [
    "sd_msa = lib.util.tract_to_msa()\n",
    "df = source.set_index('census_tract_number').join(sd_msa, rsuffix='_r').reset_index()\n",
    "add_race_eth(df)\n",
    "add_purpose_type(df) # Combines loan_purpose and loan_type in the same way as the summary report\n"
   ]
  },
  {
   "cell_type": "markdown",
   "metadata": {},
   "source": [
    "Compute the totals for the count and load amount for the first section of the Standard Summary Report. The fir"
   ]
  },
  {
   "cell_type": "code",
   "execution_count": 85,
   "metadata": {
    "collapsed": false
   },
   "outputs": [
    {
     "data": {
      "text/html": [
       "<div style=\"max-height:1000px;max-width:1500px;overflow:auto;\">\n",
       "<table border=\"1\" class=\"dataframe\">\n",
       "  <thead>\n",
       "    <tr style=\"text-align: right;\">\n",
       "      <th></th>\n",
       "      <th>action_type</th>\n",
       "    </tr>\n",
       "    <tr>\n",
       "      <th>purpose_type</th>\n",
       "      <th></th>\n",
       "    </tr>\n",
       "  </thead>\n",
       "  <tbody>\n",
       "    <tr>\n",
       "      <th>improvement</th>\n",
       "      <td>  100</td>\n",
       "    </tr>\n",
       "    <tr>\n",
       "      <th>purchase-conventional</th>\n",
       "      <td>  948</td>\n",
       "    </tr>\n",
       "    <tr>\n",
       "      <th>purchase-govt</th>\n",
       "      <td>  516</td>\n",
       "    </tr>\n",
       "    <tr>\n",
       "      <th>refinance</th>\n",
       "      <td> 7789</td>\n",
       "    </tr>\n",
       "  </tbody>\n",
       "</table>\n",
       "</div>"
      ],
      "text/plain": [
       "                       action_type\n",
       "purpose_type                      \n",
       "improvement                    100\n",
       "purchase-conventional          948\n",
       "purchase-govt                  516\n",
       "refinance                     7789"
      ]
     },
     "execution_count": 85,
     "metadata": {},
     "output_type": "execute_result"
    }
   ],
   "source": [
    "\n",
    "x = df[(df.cbsa == \"41740\") & ( df.respondent_id == '0000480228' ) ][['purpose_type','action_type','loan_amount']]\n",
    "x.groupby('purpose_type').count()[['action_type']]"
   ]
  },
  {
   "cell_type": "code",
   "execution_count": 86,
   "metadata": {
    "collapsed": false
   },
   "outputs": [
    {
     "data": {
      "text/html": [
       "<div style=\"max-height:1000px;max-width:1500px;overflow:auto;\">\n",
       "<table border=\"1\" class=\"dataframe\">\n",
       "  <thead>\n",
       "    <tr style=\"text-align: right;\">\n",
       "      <th></th>\n",
       "      <th>loan_amount</th>\n",
       "    </tr>\n",
       "    <tr>\n",
       "      <th>purpose_type</th>\n",
       "      <th></th>\n",
       "    </tr>\n",
       "  </thead>\n",
       "  <tbody>\n",
       "    <tr>\n",
       "      <th>improvement</th>\n",
       "      <td>   32110</td>\n",
       "    </tr>\n",
       "    <tr>\n",
       "      <th>purchase-conventional</th>\n",
       "      <td>  449018</td>\n",
       "    </tr>\n",
       "    <tr>\n",
       "      <th>purchase-govt</th>\n",
       "      <td>  161891</td>\n",
       "    </tr>\n",
       "    <tr>\n",
       "      <th>refinance</th>\n",
       "      <td> 2584599</td>\n",
       "    </tr>\n",
       "  </tbody>\n",
       "</table>\n",
       "</div>"
      ],
      "text/plain": [
       "                       loan_amount\n",
       "purpose_type                      \n",
       "improvement                  32110\n",
       "purchase-conventional       449018\n",
       "purchase-govt               161891\n",
       "refinance                  2584599"
      ]
     },
     "execution_count": 86,
     "metadata": {},
     "output_type": "execute_result"
    }
   ],
   "source": [
    "x.groupby('purpose_type').sum()[['loan_amount']]"
   ]
  }
 ],
 "metadata": {
  "kernelspec": {
   "display_name": "Python 2",
   "language": "python",
   "name": "python2"
  },
  "language_info": {
   "codemirror_mode": {
    "name": "ipython",
    "version": 2
   },
   "file_extension": ".py",
   "mimetype": "text/x-python",
   "name": "python",
   "nbconvert_exporter": "python",
   "pygments_lexer": "ipython2",
   "version": "2.7.6"
  }
 },
 "nbformat": 4,
 "nbformat_minor": 0
}
