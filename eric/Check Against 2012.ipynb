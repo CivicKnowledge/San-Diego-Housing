{
 "cells": [
  {
   "cell_type": "markdown",
   "metadata": {},
   "source": [
    "Check against the Standard Summary Report. There is a federal website that can do similar reports: http://tinyurl.com/nkjcno5\n",
    "    \n",
    "    "
   ]
  },
  {
   "cell_type": "code",
   "execution_count": 102,
   "metadata": {
    "collapsed": false
   },
   "outputs": [
    {
     "name": "stdout",
     "output_type": "stream",
     "text": [
      "The autoreload extension is already loaded. To reload it, use:\n",
      "  %reload_ext autoreload\n"
     ]
    }
   ],
   "source": [
    "%load_ext autoreload\n",
    "%autoreload 1\n",
    "import sys; sys.path.append(\"..\")\n",
    "%aimport lib.util\n",
    "from lib.util import reformat_tract, add_race_eth, add_purpose_type\n",
    "import pandas as pd\n",
    "import numpy as np\n",
    "from ambry import library\n"
   ]
  },
  {
   "cell_type": "code",
   "execution_count": 103,
   "metadata": {
    "collapsed": true
   },
   "outputs": [],
   "source": [
    "l = library()\n",
    "p = l.get('ffiec.gov-hmda-2010e-lar-2012-ca').partition\n",
    "\n",
    "source = p.select(\"SELECT * FROM lar WHERE county_code = 73\").pandas\n"
   ]
  },
  {
   "cell_type": "markdown",
   "metadata": {},
   "source": [
    "Figure out what the respondent_id is for Bank of America"
   ]
  },
  {
   "cell_type": "code",
   "execution_count": 87,
   "metadata": {
    "collapsed": false
   },
   "outputs": [
    {
     "data": {
      "text/html": [
       "<div style=\"max-height:1000px;max-width:1500px;overflow:auto;\">\n",
       "<table border=\"1\" class=\"dataframe\">\n",
       "  <thead>\n",
       "    <tr style=\"text-align: right;\">\n",
       "      <th></th>\n",
       "      <th>respondent_id</th>\n",
       "      <th>respondent_name</th>\n",
       "    </tr>\n",
       "  </thead>\n",
       "  <tbody>\n",
       "    <tr>\n",
       "      <th>4398  </th>\n",
       "      <td> 0000012773</td>\n",
       "      <td>          BANK OF AMERICAN FORK</td>\n",
       "    </tr>\n",
       "    <tr>\n",
       "      <th>17927 </th>\n",
       "      <td> 0000014740</td>\n",
       "      <td> FIRST NATIONAL BANK OF AMERICA</td>\n",
       "    </tr>\n",
       "    <tr>\n",
       "      <th>263517</th>\n",
       "      <td> 0000480228</td>\n",
       "      <td>          BANK OF AMERICA, N.A.</td>\n",
       "    </tr>\n",
       "  </tbody>\n",
       "</table>\n",
       "</div>"
      ],
      "text/plain": [
       "       respondent_id                 respondent_name\n",
       "4398      0000012773           BANK OF AMERICAN FORK\n",
       "17927     0000014740  FIRST NATIONAL BANK OF AMERICA\n",
       "263517    0000480228           BANK OF AMERICA, N.A."
      ]
     },
     "execution_count": 87,
     "metadata": {},
     "output_type": "execute_result"
    }
   ],
   "source": [
    "ts = l.get('ffiec.gov-hmda-2010e-ts').partition.pandas\n",
    "ts_name = ts[['respondent_id','respondent_name']]\n",
    "x = source[['id','respondent_id', 'loan_type']].merge(ts_name, on='respondent_id')\n",
    "x[x.respondent_name.str.contains('BANK OF AMERICA')][['respondent_id','respondent_name']].drop_duplicates()"
   ]
  },
  {
   "cell_type": "code",
   "execution_count": 106,
   "metadata": {
    "collapsed": false
   },
   "outputs": [],
   "source": [
    "sd_msa = lib.util.tract_to_msa()\n",
    "df = source.copy()\n",
    "add_race_eth(df)\n",
    "add_purpose_type(df) # Combines loan_purpose and loan_type in the same way as the summary report\n"
   ]
  },
  {
   "cell_type": "markdown",
   "metadata": {},
   "source": [
    "Compute the totals for the count and load amount for the first section of the Standard Summary Report for the row/columns \"Load Purpose and Type / Total Applications \""
   ]
  },
  {
   "cell_type": "code",
   "execution_count": 107,
   "metadata": {
    "collapsed": false
   },
   "outputs": [
    {
     "data": {
      "text/html": [
       "<div style=\"max-height:1000px;max-width:1500px;overflow:auto;\">\n",
       "<table border=\"1\" class=\"dataframe\">\n",
       "  <thead>\n",
       "    <tr style=\"text-align: right;\">\n",
       "      <th></th>\n",
       "      <th>action_type</th>\n",
       "    </tr>\n",
       "    <tr>\n",
       "      <th>purpose_type</th>\n",
       "      <th></th>\n",
       "    </tr>\n",
       "  </thead>\n",
       "  <tbody>\n",
       "    <tr>\n",
       "      <th>improvement</th>\n",
       "      <td>  103</td>\n",
       "    </tr>\n",
       "    <tr>\n",
       "      <th>purchase-conventional</th>\n",
       "      <td> 1022</td>\n",
       "    </tr>\n",
       "    <tr>\n",
       "      <th>purchase-govt</th>\n",
       "      <td>  550</td>\n",
       "    </tr>\n",
       "    <tr>\n",
       "      <th>refinance</th>\n",
       "      <td> 8271</td>\n",
       "    </tr>\n",
       "  </tbody>\n",
       "</table>\n",
       "</div>"
      ],
      "text/plain": [
       "                       action_type\n",
       "purpose_type                      \n",
       "improvement                    103\n",
       "purchase-conventional         1022\n",
       "purchase-govt                  550\n",
       "refinance                     8271"
      ]
     },
     "execution_count": 107,
     "metadata": {},
     "output_type": "execute_result"
    }
   ],
   "source": [
    "\n",
    "x = df[(df.msa_md  == 41740) & ( df.respondent_id == '0000480228' )  ][['purpose_type','action_type','loan_amount']]\n",
    "x.groupby('purpose_type').count()[['action_type']]"
   ]
  },
  {
   "cell_type": "code",
   "execution_count": 108,
   "metadata": {
    "collapsed": false
   },
   "outputs": [
    {
     "data": {
      "text/html": [
       "<div style=\"max-height:1000px;max-width:1500px;overflow:auto;\">\n",
       "<table border=\"1\" class=\"dataframe\">\n",
       "  <thead>\n",
       "    <tr style=\"text-align: right;\">\n",
       "      <th></th>\n",
       "      <th>loan_amount</th>\n",
       "    </tr>\n",
       "    <tr>\n",
       "      <th>purpose_type</th>\n",
       "      <th></th>\n",
       "    </tr>\n",
       "  </thead>\n",
       "  <tbody>\n",
       "    <tr>\n",
       "      <th>improvement</th>\n",
       "      <td>   32417</td>\n",
       "    </tr>\n",
       "    <tr>\n",
       "      <th>purchase-conventional</th>\n",
       "      <td>  484014</td>\n",
       "    </tr>\n",
       "    <tr>\n",
       "      <th>purchase-govt</th>\n",
       "      <td>  174186</td>\n",
       "    </tr>\n",
       "    <tr>\n",
       "      <th>refinance</th>\n",
       "      <td> 2783718</td>\n",
       "    </tr>\n",
       "  </tbody>\n",
       "</table>\n",
       "</div>"
      ],
      "text/plain": [
       "                       loan_amount\n",
       "purpose_type                      \n",
       "improvement                  32417\n",
       "purchase-conventional       484014\n",
       "purchase-govt               174186\n",
       "refinance                  2783718"
      ]
     },
     "execution_count": 108,
     "metadata": {},
     "output_type": "execute_result"
    }
   ],
   "source": [
    "x.groupby('purpose_type').sum()[['loan_amount']]"
   ]
  },
  {
   "cell_type": "code",
   "execution_count": 109,
   "metadata": {
    "collapsed": false
   },
   "outputs": [
    {
     "data": {
      "text/html": [
       "<div style=\"max-height:1000px;max-width:1500px;overflow:auto;\">\n",
       "<table border=\"1\" class=\"dataframe\">\n",
       "  <thead>\n",
       "    <tr style=\"text-align: right;\">\n",
       "      <th></th>\n",
       "      <th>action_type</th>\n",
       "    </tr>\n",
       "    <tr>\n",
       "      <th>purpose_type</th>\n",
       "      <th></th>\n",
       "    </tr>\n",
       "  </thead>\n",
       "  <tbody>\n",
       "    <tr>\n",
       "      <th>improvement</th>\n",
       "      <td>   52</td>\n",
       "    </tr>\n",
       "    <tr>\n",
       "      <th>purchase-conventional</th>\n",
       "      <td>  622</td>\n",
       "    </tr>\n",
       "    <tr>\n",
       "      <th>purchase-govt</th>\n",
       "      <td>  243</td>\n",
       "    </tr>\n",
       "    <tr>\n",
       "      <th>refinance</th>\n",
       "      <td> 5439</td>\n",
       "    </tr>\n",
       "  </tbody>\n",
       "</table>\n",
       "</div>"
      ],
      "text/plain": [
       "                       action_type\n",
       "purpose_type                      \n",
       "improvement                     52\n",
       "purchase-conventional          622\n",
       "purchase-govt                  243\n",
       "refinance                     5439"
      ]
     },
     "execution_count": 109,
     "metadata": {},
     "output_type": "execute_result"
    }
   ],
   "source": [
    "\n",
    "x = df[(df.msa_md  == 41740) & ( df.respondent_id == '0000480228' ) & ( df.action_type == 1 ) ]\\\n",
    "[['purpose_type','action_type','loan_amount']]\n",
    "x.groupby('purpose_type').count()[['action_type']]"
   ]
  },
  {
   "cell_type": "code",
   "execution_count": 110,
   "metadata": {
    "collapsed": false
   },
   "outputs": [
    {
     "data": {
      "text/plain": [
       "9946"
      ]
     },
     "execution_count": 110,
     "metadata": {},
     "output_type": "execute_result"
    }
   ],
   "source": [
    "source[(source.msa_md  == 41740) & ( source.respondent_id == '0000480228' ) ].id.count()"
   ]
  },
  {
   "cell_type": "code",
   "execution_count": null,
   "metadata": {
    "collapsed": true
   },
   "outputs": [],
   "source": []
  }
 ],
 "metadata": {
  "kernelspec": {
   "display_name": "Python 2",
   "language": "python",
   "name": "python2"
  },
  "language_info": {
   "codemirror_mode": {
    "name": "ipython",
    "version": 2
   },
   "file_extension": ".py",
   "mimetype": "text/x-python",
   "name": "python",
   "nbconvert_exporter": "python",
   "pygments_lexer": "ipython2",
   "version": "2.7.6"
  }
 },
 "nbformat": 4,
 "nbformat_minor": 0
}
