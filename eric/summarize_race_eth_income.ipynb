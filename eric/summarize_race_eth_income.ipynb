{
 "cells": [
  {
   "cell_type": "code",
   "execution_count": 7,
   "metadata": {
    "collapsed": false
   },
   "outputs": [],
   "source": [
    "import sys\n",
    "sys.path.append(\"..\")\n",
    "from lib.util import add_income_group, add_race_eth, add_purpose_type\n",
    "import pandas as pd\n",
    "import numpy as np\n",
    "from ambry import library\n",
    "l = library()\n",
    "p = l.get('ffiec.gov-hmda-2010e-lar-2012-ca').partition\n",
    "df = p.select(\"SELECT * FROM lar WHERE county_code = 73\").pandas\n"
   ]
  },
  {
   "cell_type": "code",
   "execution_count": 2,
   "metadata": {
    "collapsed": false
   },
   "outputs": [
    {
     "data": {
      "text/html": [
       "<div style=\"max-height:1000px;max-width:1500px;overflow:auto;\">\n",
       "<table border=\"1\" class=\"dataframe\">\n",
       "  <thead>\n",
       "    <tr style=\"text-align: right;\">\n",
       "      <th>race_eth</th>\n",
       "      <th>aian</th>\n",
       "      <th>as</th>\n",
       "      <th>b</th>\n",
       "      <th>h</th>\n",
       "      <th>pi</th>\n",
       "      <th>w</th>\n",
       "    </tr>\n",
       "    <tr>\n",
       "      <th>census_tract_number</th>\n",
       "      <th></th>\n",
       "      <th></th>\n",
       "      <th></th>\n",
       "      <th></th>\n",
       "      <th></th>\n",
       "      <th></th>\n",
       "    </tr>\n",
       "  </thead>\n",
       "  <tbody>\n",
       "    <tr>\n",
       "      <th>0001.00</th>\n",
       "      <td>  1</td>\n",
       "      <td>  7</td>\n",
       "      <td>  3</td>\n",
       "      <td> 15</td>\n",
       "      <td>NaN</td>\n",
       "      <td> 347</td>\n",
       "    </tr>\n",
       "    <tr>\n",
       "      <th>0002.01</th>\n",
       "      <td>NaN</td>\n",
       "      <td>  7</td>\n",
       "      <td>NaN</td>\n",
       "      <td> 12</td>\n",
       "      <td>  2</td>\n",
       "      <td> 189</td>\n",
       "    </tr>\n",
       "    <tr>\n",
       "      <th>0002.02</th>\n",
       "      <td>NaN</td>\n",
       "      <td> 23</td>\n",
       "      <td>  2</td>\n",
       "      <td> 21</td>\n",
       "      <td>NaN</td>\n",
       "      <td> 355</td>\n",
       "    </tr>\n",
       "    <tr>\n",
       "      <th>0003.00</th>\n",
       "      <td>  2</td>\n",
       "      <td> 15</td>\n",
       "      <td>  3</td>\n",
       "      <td> 18</td>\n",
       "      <td>  1</td>\n",
       "      <td> 282</td>\n",
       "    </tr>\n",
       "    <tr>\n",
       "      <th>0004.00</th>\n",
       "      <td>NaN</td>\n",
       "      <td>  9</td>\n",
       "      <td>  2</td>\n",
       "      <td>  2</td>\n",
       "      <td>NaN</td>\n",
       "      <td> 115</td>\n",
       "    </tr>\n",
       "  </tbody>\n",
       "</table>\n",
       "</div>"
      ],
      "text/plain": [
       "race_eth             aian  as   b   h  pi    w\n",
       "census_tract_number                           \n",
       "0001.00                 1   7   3  15 NaN  347\n",
       "0002.01               NaN   7 NaN  12   2  189\n",
       "0002.02               NaN  23   2  21 NaN  355\n",
       "0003.00                 2  15   3  18   1  282\n",
       "0004.00               NaN   9   2   2 NaN  115"
      ]
     },
     "execution_count": 2,
     "metadata": {},
     "output_type": "execute_result"
    }
   ],
   "source": [
    "# Add the race an ethnicity column, race_eth\n",
    "add_race_eth(df)\n",
    "\n",
    "dfs = df[['id','census_tract_number', 'applicant_ethnicity','applicant_race_1', 'race_eth']]\n",
    "dfc = dfs.groupby(['census_tract_number', 'race_eth']).count()[['id']]\n",
    "\n",
    "# Pivot to get the race_eth as columns\n",
    "df_re = dfc.reset_index().pivot('census_tract_number', 'race_eth','id')\n",
    "df_re.head()\n"
   ]
  },
  {
   "cell_type": "markdown",
   "metadata": {},
   "source": [
    "From : http://www.ffiec.gov/geocode/help3.aspx\n",
    "\n",
    "Tract Income Level - This corresponds to tract classifications as defined by the HMDA and CRA regulations. This field is based on the Tract Median Family Income %:\n",
    "\n",
    "If the Median Family Income % is < 50% and > 0 then the Income Level is Low.\n",
    "\n",
    "If the Median Family Income % is >= 50% and < 80% then the Income Level is Moderate.\n",
    "\n",
    "If the Median Family Income % is >= 80% and < 120% then the Income Level is Middle.\n",
    "\n",
    "If the Median Family Income % is >=120% then the Income Level is Upper.\n",
    "\n",
    "If the Median Family Income % is 0% then the Income Level is Not Known."
   ]
  },
  {
   "cell_type": "code",
   "execution_count": 4,
   "metadata": {
    "collapsed": false
   },
   "outputs": [],
   "source": [
    "# Needs to be converted from a string, since some entries are not numbers\n",
    "df.applicant_income = df.applicant_income.astype(float, raise_on_error=False)\n",
    "\n",
    "# Add the 'income_group'\n",
    "add_income_group(df)"
   ]
  },
  {
   "cell_type": "code",
   "execution_count": 5,
   "metadata": {
    "collapsed": false
   },
   "outputs": [
    {
     "data": {
      "text/plain": [
       "low     207208\n",
       "na       28465\n",
       "mod       4278\n",
       "mid       1557\n",
       "high      1198\n",
       "dtype: int64"
      ]
     },
     "execution_count": 5,
     "metadata": {},
     "output_type": "execute_result"
    }
   ],
   "source": [
    "    \n",
    "dfi = df[['applicant_income','hud_median_family_income', 'tract_to_msa_md_income','income_group']]\n",
    "dfi.income_group.value_counts()\n",
    "    "
   ]
  },
  {
   "cell_type": "code",
   "execution_count": 9,
   "metadata": {
    "collapsed": false
   },
   "outputs": [],
   "source": [
    "msa = df[(df.msa_md  == 41740) & ( df.respondent_id == '0000480228' )].copy() # San Diego MSA / Bank of America\n",
    "add_income_group(msa) # adds income_group\n",
    "add_race_eth(msa) # adds race_eth\n",
    "add_purpose_type(msa) # add purpose_type"
   ]
  },
  {
   "cell_type": "code",
   "execution_count": 18,
   "metadata": {
    "collapsed": false
   },
   "outputs": [
    {
     "data": {
      "text/html": [
       "<div style=\"max-height:1000px;max-width:1500px;overflow:auto;\">\n",
       "<table border=\"1\" class=\"dataframe\">\n",
       "  <thead>\n",
       "    <tr>\n",
       "      <th></th>\n",
       "      <th colspan=\"6\" halign=\"left\">id</th>\n",
       "    </tr>\n",
       "    <tr>\n",
       "      <th>action_type</th>\n",
       "      <th>1</th>\n",
       "      <th>2</th>\n",
       "      <th>3</th>\n",
       "      <th>4</th>\n",
       "      <th>5</th>\n",
       "      <th>6</th>\n",
       "    </tr>\n",
       "    <tr>\n",
       "      <th>purpose_type</th>\n",
       "      <th></th>\n",
       "      <th></th>\n",
       "      <th></th>\n",
       "      <th></th>\n",
       "      <th></th>\n",
       "      <th></th>\n",
       "    </tr>\n",
       "  </thead>\n",
       "  <tbody>\n",
       "    <tr>\n",
       "      <th>improvement</th>\n",
       "      <td>   52</td>\n",
       "      <td>   1</td>\n",
       "      <td>   35</td>\n",
       "      <td>   6</td>\n",
       "      <td>   6</td>\n",
       "      <td>   3</td>\n",
       "    </tr>\n",
       "    <tr>\n",
       "      <th>purchase-conventional</th>\n",
       "      <td>  622</td>\n",
       "      <td>  43</td>\n",
       "      <td>  204</td>\n",
       "      <td> 115</td>\n",
       "      <td>  13</td>\n",
       "      <td>  25</td>\n",
       "    </tr>\n",
       "    <tr>\n",
       "      <th>purchase-govt</th>\n",
       "      <td>  243</td>\n",
       "      <td> NaN</td>\n",
       "      <td>  100</td>\n",
       "      <td>  48</td>\n",
       "      <td>   5</td>\n",
       "      <td> 154</td>\n",
       "    </tr>\n",
       "    <tr>\n",
       "      <th>refinance</th>\n",
       "      <td> 5439</td>\n",
       "      <td> 214</td>\n",
       "      <td> 1577</td>\n",
       "      <td> 601</td>\n",
       "      <td> 296</td>\n",
       "      <td> 144</td>\n",
       "    </tr>\n",
       "  </tbody>\n",
       "</table>\n",
       "</div>"
      ],
      "text/plain": [
       "                         id                          \n",
       "action_type               1    2     3    4    5    6\n",
       "purpose_type                                         \n",
       "improvement              52    1    35    6    6    3\n",
       "purchase-conventional   622   43   204  115   13   25\n",
       "purchase-govt           243  NaN   100   48    5  154\n",
       "refinance              5439  214  1577  601  296  144"
      ]
     },
     "execution_count": 18,
     "metadata": {},
     "output_type": "execute_result"
    }
   ],
   "source": [
    "msa.groupby(['purpose_type', 'action_type']).count()[['id']].unstack()"
   ]
  },
  {
   "cell_type": "code",
   "execution_count": 30,
   "metadata": {
    "collapsed": false
   },
   "outputs": [
    {
     "data": {
      "text/html": [
       "<div style=\"max-height:1000px;max-width:1500px;overflow:auto;\">\n",
       "<table border=\"1\" class=\"dataframe\">\n",
       "  <thead>\n",
       "    <tr>\n",
       "      <th></th>\n",
       "      <th colspan=\"6\" halign=\"left\">id</th>\n",
       "    </tr>\n",
       "    <tr>\n",
       "      <th>action_type</th>\n",
       "      <th>1</th>\n",
       "      <th>2</th>\n",
       "      <th>3</th>\n",
       "      <th>4</th>\n",
       "      <th>5</th>\n",
       "      <th>6</th>\n",
       "    </tr>\n",
       "    <tr>\n",
       "      <th>applicant_race_1</th>\n",
       "      <th></th>\n",
       "      <th></th>\n",
       "      <th></th>\n",
       "      <th></th>\n",
       "      <th></th>\n",
       "      <th></th>\n",
       "    </tr>\n",
       "  </thead>\n",
       "  <tbody>\n",
       "    <tr>\n",
       "      <th>1</th>\n",
       "      <td>   41</td>\n",
       "      <td>   1</td>\n",
       "      <td>   19</td>\n",
       "      <td>   6</td>\n",
       "      <td>   4</td>\n",
       "      <td>   5</td>\n",
       "    </tr>\n",
       "    <tr>\n",
       "      <th>2</th>\n",
       "      <td>  662</td>\n",
       "      <td>  27</td>\n",
       "      <td>  206</td>\n",
       "      <td>  88</td>\n",
       "      <td>  36</td>\n",
       "      <td>  17</td>\n",
       "    </tr>\n",
       "    <tr>\n",
       "      <th>3</th>\n",
       "      <td>  133</td>\n",
       "      <td>   1</td>\n",
       "      <td>   36</td>\n",
       "      <td>  12</td>\n",
       "      <td>  10</td>\n",
       "      <td>   9</td>\n",
       "    </tr>\n",
       "    <tr>\n",
       "      <th>4</th>\n",
       "      <td>   51</td>\n",
       "      <td>   4</td>\n",
       "      <td>   16</td>\n",
       "      <td>  10</td>\n",
       "      <td>   5</td>\n",
       "      <td>   6</td>\n",
       "    </tr>\n",
       "    <tr>\n",
       "      <th>5</th>\n",
       "      <td> 4365</td>\n",
       "      <td> 167</td>\n",
       "      <td> 1299</td>\n",
       "      <td> 528</td>\n",
       "      <td> 219</td>\n",
       "      <td> 232</td>\n",
       "    </tr>\n",
       "    <tr>\n",
       "      <th>6</th>\n",
       "      <td> 1089</td>\n",
       "      <td>  57</td>\n",
       "      <td>  337</td>\n",
       "      <td> 123</td>\n",
       "      <td>  45</td>\n",
       "      <td>  57</td>\n",
       "    </tr>\n",
       "    <tr>\n",
       "      <th>7</th>\n",
       "      <td>   15</td>\n",
       "      <td>   1</td>\n",
       "      <td>    3</td>\n",
       "      <td>   3</td>\n",
       "      <td>   1</td>\n",
       "      <td> NaN</td>\n",
       "    </tr>\n",
       "  </tbody>\n",
       "</table>\n",
       "</div>"
      ],
      "text/plain": [
       "                    id                          \n",
       "action_type          1    2     3    4    5    6\n",
       "applicant_race_1                                \n",
       "1                   41    1    19    6    4    5\n",
       "2                  662   27   206   88   36   17\n",
       "3                  133    1    36   12   10    9\n",
       "4                   51    4    16   10    5    6\n",
       "5                 4365  167  1299  528  219  232\n",
       "6                 1089   57   337  123   45   57\n",
       "7                   15    1     3    3    1  NaN"
      ]
     },
     "execution_count": 30,
     "metadata": {},
     "output_type": "execute_result"
    }
   ],
   "source": [
    "msa.groupby(['applicant_race_1', 'action_type']).count()[['id']].unstack()"
   ]
  },
  {
   "cell_type": "code",
   "execution_count": null,
   "metadata": {
    "collapsed": true
   },
   "outputs": [],
   "source": []
  }
 ],
 "metadata": {
  "kernelspec": {
   "display_name": "Python 2",
   "language": "python",
   "name": "python2"
  },
  "language_info": {
   "codemirror_mode": {
    "name": "ipython",
    "version": 2
   },
   "file_extension": ".py",
   "mimetype": "text/x-python",
   "name": "python",
   "nbconvert_exporter": "python",
   "pygments_lexer": "ipython2",
   "version": "2.7.6"
  }
 },
 "nbformat": 4,
 "nbformat_minor": 0
}
