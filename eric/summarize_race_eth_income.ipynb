{
 "cells": [
  {
   "cell_type": "code",
   "execution_count": 157,
   "metadata": {
    "collapsed": true
   },
   "outputs": [],
   "source": [
    "import pandas as pd\n",
    "import numpy as np\n",
    "from ambry import library\n",
    "l = library()\n",
    "p = l.get('ffiec.gov-hmda-2010e-lar-2012-ca').partition\n",
    "all_df = p.pandas\n",
    "df = all_df[all_df.county_code == 73]"
   ]
  },
  {
   "cell_type": "code",
   "execution_count": null,
   "metadata": {
    "collapsed": false
   },
   "outputs": [],
   "source": [
    "def add_race_eth(df):\n",
    "    eth_map = {\n",
    "        1: 'h',\n",
    "        2: 'nh',\n",
    "        3: None,\n",
    "        4: None,\n",
    "        5: None\n",
    "    }\n",
    "\n",
    "    race_map = {\n",
    "        1: 'aian',\n",
    "        2: 'as',\n",
    "        3: 'b',\n",
    "        4: 'pi',\n",
    "        5: 'w',\n",
    "        6: None,\n",
    "        7: None,\n",
    "        8: None\n",
    "    }\n",
    "\n",
    "    re_map = {\n",
    "        ('h','aian'): 'h',    ('nh','aian'): 'aian', (None,'aian'): 'aian',\n",
    "        ('h','as')  : 'h',    ('nh','as')  : 'as',   (None,'as')  : 'as',\n",
    "        ('h','b')   : 'b',    ('nh','b')   : 'b',    (None,'b')   : 'b',\n",
    "        ('h','pi')  : 'h',    ('nh','pi')  : 'pi',   (None,'pi')  : 'pi',\n",
    "        ('h','w')   : 'h',    ('nh','w')   : 'w',    (None,'w')   : 'w',\n",
    "        ('h',None)  : 'h',    ('nh',None)  : 'w',    (None,None)  : None,\n",
    "    }\n",
    "\n",
    "    df.loc[:,'race_eth'] = df.apply(lambda row: re_map[(eth_map[row.applicant_ethnicity], race_map[row.applicant_race_1])], axis=1)\n",
    "\n",
    "add_race_eth(df)\n",
    "dfs = df[['id','census_tract_number', 'applicant_ethnicity','applicant_race_1', 'race_eth']]\n",
    "dfc = dfs.groupby(['census_tract_number', 'race_eth']).count()[['id']]\n",
    "df_re = dfc.reset_index().pivot('census_tract_number', 'race_eth','id')\n",
    "df_re\n"
   ]
  },
  {
   "cell_type": "markdown",
   "metadata": {},
   "source": [
    "From : http://www.ffiec.gov/geocode/help3.aspx\n",
    "\n",
    "Tract Income Level - This corresponds to tract classifications as defined by the HMDA and CRA regulations. This field is based on the Tract Median Family Income %:\n",
    "\n",
    "If the Median Family Income % is < 50% and > 0 then the Income Level is Low.\n",
    "\n",
    "If the Median Family Income % is >= 50% and < 80% then the Income Level is Moderate.\n",
    "\n",
    "If the Median Family Income % is >= 80% and < 120% then the Income Level is Middle.\n",
    "\n",
    "If the Median Family Income % is >=120% then the Income Level is Upper.\n",
    "\n",
    "If the Median Family Income % is 0% then the Income Level is Not Known."
   ]
  },
  {
   "cell_type": "code",
   "execution_count": 164,
   "metadata": {
    "collapsed": false
   },
   "outputs": [
    {
     "data": {
      "text/html": [
       "<div style=\"max-height:1000px;max-width:1500px;overflow:auto;\">\n",
       "<table border=\"1\" class=\"dataframe\">\n",
       "  <thead>\n",
       "    <tr style=\"text-align: right;\">\n",
       "      <th></th>\n",
       "      <th>applicant_income</th>\n",
       "      <th>hud_median_family_income</th>\n",
       "      <th>tract_to_msa_md_income</th>\n",
       "    </tr>\n",
       "  </thead>\n",
       "  <tbody>\n",
       "    <tr>\n",
       "      <th>1480794</th>\n",
       "      <td> 0239</td>\n",
       "      <td> 75900</td>\n",
       "      <td> 121.57</td>\n",
       "    </tr>\n",
       "    <tr>\n",
       "      <th>1480795</th>\n",
       "      <td> 0038</td>\n",
       "      <td> 75900</td>\n",
       "      <td> 105.31</td>\n",
       "    </tr>\n",
       "    <tr>\n",
       "      <th>1480796</th>\n",
       "      <td> 0082</td>\n",
       "      <td> 75900</td>\n",
       "      <td> 123.48</td>\n",
       "    </tr>\n",
       "    <tr>\n",
       "      <th>1480797</th>\n",
       "      <td> 0032</td>\n",
       "      <td> 75900</td>\n",
       "      <td> 111.24</td>\n",
       "    </tr>\n",
       "    <tr>\n",
       "      <th>1480798</th>\n",
       "      <td> 0131</td>\n",
       "      <td> 75900</td>\n",
       "      <td> 124.15</td>\n",
       "    </tr>\n",
       "  </tbody>\n",
       "</table>\n",
       "</div>"
      ],
      "text/plain": [
       "        applicant_income  hud_median_family_income  tract_to_msa_md_income\n",
       "1480794             0239                     75900                  121.57\n",
       "1480795             0038                     75900                  105.31\n",
       "1480796             0082                     75900                  123.48\n",
       "1480797             0032                     75900                  111.24\n",
       "1480798             0131                     75900                  124.15"
      ]
     },
     "execution_count": 164,
     "metadata": {},
     "output_type": "execute_result"
    }
   ],
   "source": []
  },
  {
   "cell_type": "code",
   "execution_count": 182,
   "metadata": {
    "collapsed": true
   },
   "outputs": [],
   "source": [
    "def add_income_group(df):\n",
    "    import numpy as np\n",
    "    \n",
    "    ranges = {\n",
    "        (0,.5): 'low',\n",
    "        (.5,.8): 'mod',\n",
    "        (.8,1.2): 'mid',\n",
    "        (1.2,np.inf): 'high'\n",
    "    }\n",
    "    \n",
    "    def ig(x):\n",
    "        if x == 0:\n",
    "            return 'na'\n",
    "        elif 0.0 < x < .5:\n",
    "            return 'low'\n",
    "        elif 0.5 <= x < .8:\n",
    "            return 'mod'\n",
    "        elif 0.8 <= x < 1.2:\n",
    "            return 'mid'\n",
    "        elif 1.2 < x:\n",
    "            return 'high'\n",
    "        \n",
    "    def to_float(v):\n",
    "        try:\n",
    "            return float(v)\n",
    "        except:\n",
    "            return 0\n",
    "        \n",
    "    \n",
    "    df.loc[:,'income_group'] = df.apply(lambda row: ig( to_float(row.applicant_income) * 100 / row.hud_median_family_income) , \n",
    "                                        axis=1)\n",
    "\n",
    "df.applicant_income = dfi.applicant_income.astype(float, raise_on_error=False)\n",
    "add_income_group(df)"
   ]
  },
  {
   "cell_type": "code",
   "execution_count": 183,
   "metadata": {
    "collapsed": false
   },
   "outputs": [
    {
     "data": {
      "text/plain": [
       "low     207208\n",
       "na       28465\n",
       "mod       4278\n",
       "mid       1557\n",
       "high      1198\n",
       "dtype: int64"
      ]
     },
     "execution_count": 183,
     "metadata": {},
     "output_type": "execute_result"
    }
   ],
   "source": [
    "    \n",
    "dfi = df[['applicant_income','hud_median_family_income', 'tract_to_msa_md_income','income_group']]\n",
    "dfi.income_group.value_counts()\n",
    "    "
   ]
  },
  {
   "cell_type": "code",
   "execution_count": null,
   "metadata": {
    "collapsed": true
   },
   "outputs": [],
   "source": []
  }
 ],
 "metadata": {
  "kernelspec": {
   "display_name": "Python 2",
   "language": "python",
   "name": "python2"
  },
  "language_info": {
   "codemirror_mode": {
    "name": "ipython",
    "version": 2
   },
   "file_extension": ".py",
   "mimetype": "text/x-python",
   "name": "python",
   "nbconvert_exporter": "python",
   "pygments_lexer": "ipython2",
   "version": "2.7.6"
  }
 },
 "nbformat": 4,
 "nbformat_minor": 0
}
