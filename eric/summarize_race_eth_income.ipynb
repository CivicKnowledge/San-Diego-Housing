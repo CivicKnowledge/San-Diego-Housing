{
 "cells": [
  {
   "cell_type": "code",
   "execution_count": 1,
   "metadata": {
    "collapsed": false
   },
   "outputs": [],
   "source": [
    "import sys\n",
    "sys.path.append(\"..\")\n",
    "from lib.util import add_race_eth,  add_income_group\n",
    "import pandas as pd\n",
    "import numpy as np\n",
    "from ambry import library\n",
    "l = library()\n",
    "p = l.get('ffiec.gov-hmda-2010e-lar-2012-ca').partition\n",
    "df = p.select(\"SELECT * FROM lar WHERE county_code = 73\").pandas\n"
   ]
  },
  {
   "cell_type": "code",
   "execution_count": 6,
   "metadata": {
    "collapsed": false
   },
   "outputs": [
    {
     "data": {
      "text/html": [
       "<div style=\"max-height:1000px;max-width:1500px;overflow:auto;\">\n",
       "<table border=\"1\" class=\"dataframe\">\n",
       "  <thead>\n",
       "    <tr style=\"text-align: right;\">\n",
       "      <th>race_eth</th>\n",
       "      <th>aian</th>\n",
       "      <th>as</th>\n",
       "      <th>b</th>\n",
       "      <th>h</th>\n",
       "      <th>pi</th>\n",
       "      <th>w</th>\n",
       "    </tr>\n",
       "    <tr>\n",
       "      <th>census_tract_number</th>\n",
       "      <th></th>\n",
       "      <th></th>\n",
       "      <th></th>\n",
       "      <th></th>\n",
       "      <th></th>\n",
       "      <th></th>\n",
       "    </tr>\n",
       "  </thead>\n",
       "  <tbody>\n",
       "    <tr>\n",
       "      <th>0001.00</th>\n",
       "      <td>  1</td>\n",
       "      <td>  7</td>\n",
       "      <td>  3</td>\n",
       "      <td> 15</td>\n",
       "      <td>NaN</td>\n",
       "      <td> 347</td>\n",
       "    </tr>\n",
       "    <tr>\n",
       "      <th>0002.01</th>\n",
       "      <td>NaN</td>\n",
       "      <td>  7</td>\n",
       "      <td>NaN</td>\n",
       "      <td> 12</td>\n",
       "      <td>  2</td>\n",
       "      <td> 189</td>\n",
       "    </tr>\n",
       "    <tr>\n",
       "      <th>0002.02</th>\n",
       "      <td>NaN</td>\n",
       "      <td> 23</td>\n",
       "      <td>  2</td>\n",
       "      <td> 21</td>\n",
       "      <td>NaN</td>\n",
       "      <td> 355</td>\n",
       "    </tr>\n",
       "    <tr>\n",
       "      <th>0003.00</th>\n",
       "      <td>  2</td>\n",
       "      <td> 15</td>\n",
       "      <td>  3</td>\n",
       "      <td> 18</td>\n",
       "      <td>  1</td>\n",
       "      <td> 282</td>\n",
       "    </tr>\n",
       "    <tr>\n",
       "      <th>0004.00</th>\n",
       "      <td>NaN</td>\n",
       "      <td>  9</td>\n",
       "      <td>  2</td>\n",
       "      <td>  2</td>\n",
       "      <td>NaN</td>\n",
       "      <td> 115</td>\n",
       "    </tr>\n",
       "  </tbody>\n",
       "</table>\n",
       "</div>"
      ],
      "text/plain": [
       "race_eth             aian  as   b   h  pi    w\n",
       "census_tract_number                           \n",
       "0001.00                 1   7   3  15 NaN  347\n",
       "0002.01               NaN   7 NaN  12   2  189\n",
       "0002.02               NaN  23   2  21 NaN  355\n",
       "0003.00                 2  15   3  18   1  282\n",
       "0004.00               NaN   9   2   2 NaN  115"
      ]
     },
     "execution_count": 6,
     "metadata": {},
     "output_type": "execute_result"
    }
   ],
   "source": [
    "# Add the race an ethnicity column, race_eth\n",
    "add_race_eth(df)\n",
    "\n",
    "dfs = df[['id','census_tract_number', 'applicant_ethnicity','applicant_race_1', 'race_eth']]\n",
    "dfc = dfs.groupby(['census_tract_number', 'race_eth']).count()[['id']]\n",
    "\n",
    "# Pivot to get the race_eth as columns\n",
    "df_re = dfc.reset_index().pivot('census_tract_number', 'race_eth','id')\n",
    "df_re.head()\n"
   ]
  },
  {
   "cell_type": "markdown",
   "metadata": {},
   "source": [
    "From : http://www.ffiec.gov/geocode/help3.aspx\n",
    "\n",
    "Tract Income Level - This corresponds to tract classifications as defined by the HMDA and CRA regulations. This field is based on the Tract Median Family Income %:\n",
    "\n",
    "If the Median Family Income % is < 50% and > 0 then the Income Level is Low.\n",
    "\n",
    "If the Median Family Income % is >= 50% and < 80% then the Income Level is Moderate.\n",
    "\n",
    "If the Median Family Income % is >= 80% and < 120% then the Income Level is Middle.\n",
    "\n",
    "If the Median Family Income % is >=120% then the Income Level is Upper.\n",
    "\n",
    "If the Median Family Income % is 0% then the Income Level is Not Known."
   ]
  },
  {
   "cell_type": "code",
   "execution_count": 4,
   "metadata": {
    "collapsed": false
   },
   "outputs": [],
   "source": [
    "# Needs to be converted from a string, since some entries are not numbers\n",
    "df.applicant_income = df.applicant_income.astype(float, raise_on_error=False)\n",
    "\n",
    "# Add the 'income_group'\n",
    "add_income_group(df)"
   ]
  },
  {
   "cell_type": "code",
   "execution_count": 5,
   "metadata": {
    "collapsed": false
   },
   "outputs": [
    {
     "data": {
      "text/plain": [
       "low     207208\n",
       "na       28465\n",
       "mod       4278\n",
       "mid       1557\n",
       "high      1198\n",
       "dtype: int64"
      ]
     },
     "execution_count": 5,
     "metadata": {},
     "output_type": "execute_result"
    }
   ],
   "source": [
    "    \n",
    "dfi = df[['applicant_income','hud_median_family_income', 'tract_to_msa_md_income','income_group']]\n",
    "dfi.income_group.value_counts()\n",
    "    "
   ]
  },
  {
   "cell_type": "code",
   "execution_count": null,
   "metadata": {
    "collapsed": true
   },
   "outputs": [],
   "source": []
  }
 ],
 "metadata": {
  "kernelspec": {
   "display_name": "Python 2",
   "language": "python",
   "name": "python2"
  },
  "language_info": {
   "codemirror_mode": {
    "name": "ipython",
    "version": 2
   },
   "file_extension": ".py",
   "mimetype": "text/x-python",
   "name": "python",
   "nbconvert_exporter": "python",
   "pygments_lexer": "ipython2",
   "version": "2.7.6"
  }
 },
 "nbformat": 4,
 "nbformat_minor": 0
}
