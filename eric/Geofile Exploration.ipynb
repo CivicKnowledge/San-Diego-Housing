{
 "cells": [
  {
   "cell_type": "code",
   "execution_count": null,
   "metadata": {
    "collapsed": false
   },
   "outputs": [],
   "source": [
    "import pandas as pd\n",
    "import numpy as np\n",
    "from ambry import library\n",
    "l = library()\n",
    "p = l.get('census.gov-acs-geo-p5ye2013-geofile').partition\n",
    "df = p.pandas"
   ]
  },
  {
   "cell_type": "code",
   "execution_count": 22,
   "metadata": {
    "collapsed": false
   },
   "outputs": [],
   "source": [
    "dfg = df.groupby(df.sumlevel)\n"
   ]
  },
  {
   "cell_type": "code",
   "execution_count": 27,
   "metadata": {
    "collapsed": false
   },
   "outputs": [
    {
     "data": {
      "text/plain": [
       "Index([u'id', u'gvid', u'geoidt', u'fileid', u'stusab', u'sumlevel', u'component', u'logrecno', u'us', u'region', u'division', u'statece', u'state', u'county', u'cousub', u'place', u'tract', u'blkgrp', u'concit', u'aianhh', u'aianhhfp', u'aihhtli', u'aitsce', u'aits', u'anrc', u'cbsa', u'csa', u'metdiv', u'macc', u'memi', u'necta', u'cnecta', u'nectadiv', u'ua', u'blank31', u'cdcurr', u'sldu', u'sldl', u'blank35', u'blank36', u'zcta5', u'submcd', u'sdelm', u'sdsec', u'sduni', u'ur', u'pci', u'blank44', u'blank45', u'puma5', u'blank47', u'geoid', u'name', u'bttr', u'btbg', u'blank52'], dtype='object')"
      ]
     },
     "execution_count": 27,
     "metadata": {},
     "output_type": "execute_result"
    }
   ],
   "source": [
    "df.columns\n"
   ]
  },
  {
   "cell_type": "code",
   "execution_count": 49,
   "metadata": {
    "collapsed": false
   },
   "outputs": [
    {
     "data": {
      "text/plain": [
       "id           540\n",
       "gvid         540\n",
       "geoidt       540\n",
       "fileid       540\n",
       "stusab       540\n",
       "sumlevel     540\n",
       "component    540\n",
       "logrecno     540\n",
       "us             0\n",
       "region         0\n",
       "division       0\n",
       "statece        0\n",
       "state        540\n",
       "county         0\n",
       "cousub         0\n",
       "place          0\n",
       "tract          0\n",
       "blkgrp         0\n",
       "concit         0\n",
       "aianhh         0\n",
       "aianhhfp       0\n",
       "aihhtli        0\n",
       "aitsce         0\n",
       "aits           0\n",
       "anrc           0\n",
       "cbsa           0\n",
       "csa            0\n",
       "metdiv         0\n",
       "macc           0\n",
       "memi           0\n",
       "necta          0\n",
       "cnecta         0\n",
       "nectadiv       0\n",
       "ua             0\n",
       "blank31        0\n",
       "cdcurr         0\n",
       "sldu           0\n",
       "sldl           0\n",
       "blank35        0\n",
       "blank36        0\n",
       "zcta5          0\n",
       "submcd         0\n",
       "sdelm          0\n",
       "sdsec        540\n",
       "sduni          0\n",
       "ur             0\n",
       "pci            0\n",
       "blank44        0\n",
       "blank45        0\n",
       "puma5          0\n",
       "blank47        0\n",
       "geoid        540\n",
       "name         540\n",
       "bttr           0\n",
       "btbg           0\n",
       "blank52        0\n",
       "Length: 56, dtype: int64"
      ]
     },
     "execution_count": 49,
     "metadata": {},
     "output_type": "execute_result"
    }
   ],
   "source": [
    "dfg.get_group(960).count()"
   ]
  },
  {
   "cell_type": "code",
   "execution_count": 13,
   "metadata": {
    "collapsed": false
   },
   "outputs": [
    {
     "data": {
      "text/plain": [
       "[None,\n",
       " None,\n",
       " None,\n",
       " None,\n",
       " None,\n",
       " None,\n",
       " None,\n",
       " None,\n",
       " None,\n",
       " None,\n",
       " None,\n",
       " None,\n",
       " None,\n",
       " None,\n",
       " None,\n",
       " None,\n",
       " None,\n",
       " None,\n",
       " None,\n",
       " None,\n",
       " None,\n",
       " None,\n",
       " None,\n",
       " None,\n",
       " None,\n",
       " None]"
      ]
     },
     "execution_count": 13,
     "metadata": {},
     "output_type": "execute_result"
    }
   ],
   "source": [
    "\n",
    "list(df[df.sumlevel == 365 ].gvid)"
   ]
  },
  {
   "cell_type": "code",
   "execution_count": null,
   "metadata": {
    "collapsed": true
   },
   "outputs": [],
   "source": []
  }
 ],
 "metadata": {
  "kernelspec": {
   "display_name": "Python 2",
   "language": "python",
   "name": "python2"
  },
  "language_info": {
   "codemirror_mode": {
    "name": "ipython",
    "version": 2
   },
   "file_extension": ".py",
   "mimetype": "text/x-python",
   "name": "python",
   "nbconvert_exporter": "python",
   "pygments_lexer": "ipython2",
   "version": "2.7.6"
  }
 },
 "nbformat": 4,
 "nbformat_minor": 0
}
